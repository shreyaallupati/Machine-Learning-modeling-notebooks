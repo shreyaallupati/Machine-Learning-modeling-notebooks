{
 "cells": [
  {
   "cell_type": "markdown",
   "id": "664c1ca9-74eb-49b3-a1ed-2aa265fe05c2",
   "metadata": {},
   "source": [
    "## intro to sklearn\n"
   ]
  },
  {
   "cell_type": "markdown",
   "id": "3b0b7b01-f08b-4cb8-9b46-47d4b69b7408",
   "metadata": {},
   "source": [
    "## end to end on sklearn workflow"
   ]
  },
  {
   "cell_type": "code",
   "execution_count": 1,
   "id": "3f871ae2-09fe-49fb-87ea-e0d37fe18ee0",
   "metadata": {},
   "outputs": [],
   "source": [
    "learning=[\"0. an end to end sklearn workflow\",\n",
    "\"1. getting the data ready\",\n",
    "\"2. choose the right algo for the problem\",\n",
    "\"3. fit the model/algo and use it to make predictions\",\n",
    "\"4. evaluating a model\",\n",
    "\"5. improde a model\",\n",
    "\"6. save and load a trained model\",\n",
    "\"7. putting it all together\"]"
   ]
  },
  {
   "cell_type": "code",
   "execution_count": 2,
   "id": "31c431f6-3255-4f7e-ac16-36431e6c244d",
   "metadata": {},
   "outputs": [],
   "source": [
    "import numpy as np\n",
    "import pandas as pd\n",
    "import matplotlib.pyplot as plt\n",
    "%matplotlib inline"
   ]
  },
  {
   "cell_type": "code",
   "execution_count": 3,
   "id": "5db58e78-1215-401e-b0c7-1a6ba59d9b46",
   "metadata": {},
   "outputs": [
    {
     "data": {
      "text/html": [
       "<div>\n",
       "<style scoped>\n",
       "    .dataframe tbody tr th:only-of-type {\n",
       "        vertical-align: middle;\n",
       "    }\n",
       "\n",
       "    .dataframe tbody tr th {\n",
       "        vertical-align: top;\n",
       "    }\n",
       "\n",
       "    .dataframe thead th {\n",
       "        text-align: right;\n",
       "    }\n",
       "</style>\n",
       "<table border=\"1\" class=\"dataframe\">\n",
       "  <thead>\n",
       "    <tr style=\"text-align: right;\">\n",
       "      <th></th>\n",
       "      <th>age</th>\n",
       "      <th>sex</th>\n",
       "      <th>cp</th>\n",
       "      <th>trestbps</th>\n",
       "      <th>chol</th>\n",
       "      <th>fbs</th>\n",
       "      <th>restecg</th>\n",
       "      <th>thalach</th>\n",
       "      <th>exang</th>\n",
       "      <th>oldpeak</th>\n",
       "      <th>slope</th>\n",
       "      <th>ca</th>\n",
       "      <th>thal</th>\n",
       "      <th>target</th>\n",
       "    </tr>\n",
       "  </thead>\n",
       "  <tbody>\n",
       "    <tr>\n",
       "      <th>0</th>\n",
       "      <td>63</td>\n",
       "      <td>1</td>\n",
       "      <td>3</td>\n",
       "      <td>145</td>\n",
       "      <td>233</td>\n",
       "      <td>1</td>\n",
       "      <td>0</td>\n",
       "      <td>150</td>\n",
       "      <td>0</td>\n",
       "      <td>2.3</td>\n",
       "      <td>0</td>\n",
       "      <td>0</td>\n",
       "      <td>1</td>\n",
       "      <td>1</td>\n",
       "    </tr>\n",
       "    <tr>\n",
       "      <th>1</th>\n",
       "      <td>37</td>\n",
       "      <td>1</td>\n",
       "      <td>2</td>\n",
       "      <td>130</td>\n",
       "      <td>250</td>\n",
       "      <td>0</td>\n",
       "      <td>1</td>\n",
       "      <td>187</td>\n",
       "      <td>0</td>\n",
       "      <td>3.5</td>\n",
       "      <td>0</td>\n",
       "      <td>0</td>\n",
       "      <td>2</td>\n",
       "      <td>1</td>\n",
       "    </tr>\n",
       "    <tr>\n",
       "      <th>2</th>\n",
       "      <td>41</td>\n",
       "      <td>0</td>\n",
       "      <td>1</td>\n",
       "      <td>130</td>\n",
       "      <td>204</td>\n",
       "      <td>0</td>\n",
       "      <td>0</td>\n",
       "      <td>172</td>\n",
       "      <td>0</td>\n",
       "      <td>1.4</td>\n",
       "      <td>2</td>\n",
       "      <td>0</td>\n",
       "      <td>2</td>\n",
       "      <td>1</td>\n",
       "    </tr>\n",
       "    <tr>\n",
       "      <th>3</th>\n",
       "      <td>56</td>\n",
       "      <td>1</td>\n",
       "      <td>1</td>\n",
       "      <td>120</td>\n",
       "      <td>236</td>\n",
       "      <td>0</td>\n",
       "      <td>1</td>\n",
       "      <td>178</td>\n",
       "      <td>0</td>\n",
       "      <td>0.8</td>\n",
       "      <td>2</td>\n",
       "      <td>0</td>\n",
       "      <td>2</td>\n",
       "      <td>1</td>\n",
       "    </tr>\n",
       "    <tr>\n",
       "      <th>4</th>\n",
       "      <td>57</td>\n",
       "      <td>0</td>\n",
       "      <td>0</td>\n",
       "      <td>120</td>\n",
       "      <td>354</td>\n",
       "      <td>0</td>\n",
       "      <td>1</td>\n",
       "      <td>163</td>\n",
       "      <td>1</td>\n",
       "      <td>0.6</td>\n",
       "      <td>2</td>\n",
       "      <td>0</td>\n",
       "      <td>2</td>\n",
       "      <td>1</td>\n",
       "    </tr>\n",
       "  </tbody>\n",
       "</table>\n",
       "</div>"
      ],
      "text/plain": [
       "   age  sex  cp  trestbps  chol  fbs  restecg  thalach  exang  oldpeak  slope  \\\n",
       "0   63    1   3       145   233    1        0      150      0      2.3      0   \n",
       "1   37    1   2       130   250    0        1      187      0      3.5      0   \n",
       "2   41    0   1       130   204    0        0      172      0      1.4      2   \n",
       "3   56    1   1       120   236    0        1      178      0      0.8      2   \n",
       "4   57    0   0       120   354    0        1      163      1      0.6      2   \n",
       "\n",
       "   ca  thal  target  \n",
       "0   0     1       1  \n",
       "1   0     2       1  \n",
       "2   0     2       1  \n",
       "3   0     2       1  \n",
       "4   0     2       1  "
      ]
     },
     "execution_count": 3,
     "metadata": {},
     "output_type": "execute_result"
    }
   ],
   "source": [
    "# 1. get the data ready \n",
    "import pandas as pd\n",
    "heart_disease =pd.read_csv(\"heart-disease.csv\")\n",
    "heart_disease.head()"
   ]
  },
  {
   "cell_type": "code",
   "execution_count": 4,
   "id": "618034bd-c88d-4bb5-8cb3-fffbc2749aca",
   "metadata": {},
   "outputs": [],
   "source": [
    "# create x( features matrix) and y(labels)\n",
    "x= heart_disease.drop(\"target\",axis=1)\n",
    "y = heart_disease[\"target\"]"
   ]
  },
  {
   "cell_type": "code",
   "execution_count": 5,
   "id": "243babdf-2c24-4153-bd47-1c99d6ecc176",
   "metadata": {},
   "outputs": [
    {
     "data": {
      "text/plain": [
       "{'bootstrap': True,\n",
       " 'ccp_alpha': 0.0,\n",
       " 'class_weight': None,\n",
       " 'criterion': 'gini',\n",
       " 'max_depth': None,\n",
       " 'max_features': 'sqrt',\n",
       " 'max_leaf_nodes': None,\n",
       " 'max_samples': None,\n",
       " 'min_impurity_decrease': 0.0,\n",
       " 'min_samples_leaf': 1,\n",
       " 'min_samples_split': 2,\n",
       " 'min_weight_fraction_leaf': 0.0,\n",
       " 'monotonic_cst': None,\n",
       " 'n_estimators': 100,\n",
       " 'n_jobs': None,\n",
       " 'oob_score': False,\n",
       " 'random_state': None,\n",
       " 'verbose': 0,\n",
       " 'warm_start': False}"
      ]
     },
     "execution_count": 5,
     "metadata": {},
     "output_type": "execute_result"
    }
   ],
   "source": [
    "# 2. choose the right model and hyperparameters\n",
    "\n",
    "from sklearn.ensemble import RandomForestClassifier\n",
    "clf=RandomForestClassifier(n_estimators =100)\n",
    "\n",
    "clf.get_params()"
   ]
  },
  {
   "cell_type": "code",
   "execution_count": 6,
   "id": "e8c6e804-a5b2-4b72-9544-e7e879fe543d",
   "metadata": {},
   "outputs": [],
   "source": [
    "# 3. fit the model to training data\n",
    "\n",
    "from sklearn.model_selection import train_test_split\n",
    "x_train, x_test, y_train, y_test = train_test_split(x,y,test_size=0.2)"
   ]
  },
  {
   "cell_type": "code",
   "execution_count": 7,
   "id": "1ff5f342-3382-47e0-beaa-90ef95eaf3f6",
   "metadata": {},
   "outputs": [],
   "source": [
    "clf.fit(x_train,y_train);"
   ]
  },
  {
   "cell_type": "code",
   "execution_count": 8,
   "id": "f9b0f624-fcf4-4f20-af10-3ffff1545976",
   "metadata": {},
   "outputs": [],
   "source": [
    "# make a prediction\n",
    "## y_label=clf.predict(np.array([0,2,3,4]))"
   ]
  },
  {
   "cell_type": "code",
   "execution_count": 9,
   "id": "439508bd-c088-4ccd-82a3-3cbe5a7c1275",
   "metadata": {},
   "outputs": [
    {
     "data": {
      "text/plain": [
       "array([1, 0, 1, 1, 1, 1, 1, 1, 0, 1, 0, 0, 1, 0, 1, 1, 0, 0, 1, 0, 1, 1,\n",
       "       1, 1, 0, 0, 0, 1, 1, 0, 1, 0, 0, 0, 0, 1, 1, 1, 0, 1, 0, 1, 1, 1,\n",
       "       0, 0, 0, 0, 1, 1, 1, 1, 0, 1, 0, 1, 0, 1, 1, 1, 0], dtype=int64)"
      ]
     },
     "execution_count": 9,
     "metadata": {},
     "output_type": "execute_result"
    }
   ],
   "source": [
    "y_preds = clf.predict(x_test)\n",
    "y_preds"
   ]
  },
  {
   "cell_type": "code",
   "execution_count": 10,
   "id": "e2779175-aeaa-4757-89b1-a3878bf8ef38",
   "metadata": {},
   "outputs": [
    {
     "data": {
      "text/plain": [
       "10     1\n",
       "226    0\n",
       "0      1\n",
       "34     1\n",
       "121    1\n",
       "      ..\n",
       "207    0\n",
       "196    0\n",
       "1      1\n",
       "2      1\n",
       "280    0\n",
       "Name: target, Length: 61, dtype: int64"
      ]
     },
     "execution_count": 10,
     "metadata": {},
     "output_type": "execute_result"
    }
   ],
   "source": [
    "y_test"
   ]
  },
  {
   "cell_type": "code",
   "execution_count": 11,
   "id": "457d157d-cb4d-44c5-acf4-b71b357cb202",
   "metadata": {},
   "outputs": [
    {
     "data": {
      "text/plain": [
       "1.0"
      ]
     },
     "execution_count": 11,
     "metadata": {},
     "output_type": "execute_result"
    }
   ],
   "source": [
    "clf.score(x_train,y_train)"
   ]
  },
  {
   "cell_type": "code",
   "execution_count": 12,
   "id": "cc05b101-b835-412d-b05a-def1b65a217e",
   "metadata": {},
   "outputs": [
    {
     "data": {
      "text/plain": [
       "0.8688524590163934"
      ]
     },
     "execution_count": 12,
     "metadata": {},
     "output_type": "execute_result"
    }
   ],
   "source": [
    "clf.score(x_test,y_test)"
   ]
  },
  {
   "cell_type": "code",
   "execution_count": 13,
   "id": "94eca00f-e1a3-4884-bf01-311ae7504e2f",
   "metadata": {},
   "outputs": [
    {
     "name": "stdout",
     "output_type": "stream",
     "text": [
      "              precision    recall  f1-score   support\n",
      "\n",
      "           0       0.92      0.80      0.86        30\n",
      "           1       0.83      0.94      0.88        31\n",
      "\n",
      "    accuracy                           0.87        61\n",
      "   macro avg       0.88      0.87      0.87        61\n",
      "weighted avg       0.88      0.87      0.87        61\n",
      "\n"
     ]
    }
   ],
   "source": [
    "from sklearn.metrics import classification_report, confusion_matrix, accuracy_score\n",
    "\n",
    "print(classification_report(y_test,y_preds))"
   ]
  },
  {
   "cell_type": "code",
   "execution_count": 14,
   "id": "dbfda098-66b1-4b5d-acf2-d38f89714c9f",
   "metadata": {},
   "outputs": [
    {
     "data": {
      "text/plain": [
       "array([[24,  6],\n",
       "       [ 2, 29]], dtype=int64)"
      ]
     },
     "execution_count": 14,
     "metadata": {},
     "output_type": "execute_result"
    }
   ],
   "source": [
    "confusion_matrix(y_test,y_preds)"
   ]
  },
  {
   "cell_type": "code",
   "execution_count": 15,
   "id": "2d5240c1-1afc-4545-8c91-906d8e51dfb9",
   "metadata": {},
   "outputs": [
    {
     "data": {
      "text/plain": [
       "0.8688524590163934"
      ]
     },
     "execution_count": 15,
     "metadata": {},
     "output_type": "execute_result"
    }
   ],
   "source": [
    "accuracy_score(y_test,y_preds)"
   ]
  },
  {
   "cell_type": "code",
   "execution_count": 16,
   "id": "c7ac38f5-483a-42eb-a624-0ade5e1a9f0a",
   "metadata": {},
   "outputs": [
    {
     "name": "stdout",
     "output_type": "stream",
     "text": [
      "trying model with 10 estimators..\n",
      "model accuracy on the test set:78.69%\n",
      "trying model with 20 estimators..\n",
      "model accuracy on the test set:85.25%\n",
      "trying model with 30 estimators..\n",
      "model accuracy on the test set:83.61%\n",
      "trying model with 40 estimators..\n",
      "model accuracy on the test set:81.97%\n",
      "trying model with 50 estimators..\n",
      "model accuracy on the test set:83.61%\n",
      "trying model with 60 estimators..\n",
      "model accuracy on the test set:86.89%\n",
      "trying model with 70 estimators..\n",
      "model accuracy on the test set:86.89%\n",
      "trying model with 80 estimators..\n",
      "model accuracy on the test set:85.25%\n",
      "trying model with 90 estimators..\n",
      "model accuracy on the test set:83.61%\n",
      "trying model with 100 estimators..\n",
      "model accuracy on the test set:85.25%\n"
     ]
    }
   ],
   "source": [
    "# 5. improve a model\n",
    "# try different amount of n estimators\n",
    "np.random.seed(42)\n",
    "for i in range(10,101,10):\n",
    "    print(f\"trying model with {i} estimators..\")\n",
    "    clf=RandomForestClassifier(n_estimators=i).fit(x_train,y_train)\n",
    "    print(f\"model accuracy on the test set:{clf.score(x_test,y_test) * 100:.2f}%\")"
   ]
  },
  {
   "cell_type": "code",
   "execution_count": 17,
   "id": "7b5c2f10-5e43-4876-92dd-900f86daba0e",
   "metadata": {},
   "outputs": [],
   "source": [
    "#6. save a model and load it\n",
    "\n",
    "import pickle\n",
    "\n",
    "pickle.dump(clf,open(\"random_forest_model_1.pkl\",\"wb\"))"
   ]
  },
  {
   "cell_type": "code",
   "execution_count": 18,
   "id": "416cabeb-3d63-4f28-8c74-f99dcfc30667",
   "metadata": {},
   "outputs": [
    {
     "data": {
      "text/plain": [
       "0.8524590163934426"
      ]
     },
     "execution_count": 18,
     "metadata": {},
     "output_type": "execute_result"
    }
   ],
   "source": [
    "loaded_model = pickle.load(open(\"random_forest_model_1.pkl\",\"rb\"))\n",
    "loaded_model.score(x_test,y_test)"
   ]
  },
  {
   "cell_type": "code",
   "execution_count": 19,
   "id": "7651b367-c3cb-46e6-8767-ebd37c29f266",
   "metadata": {},
   "outputs": [
    {
     "data": {
      "text/plain": [
       "['0. an end to end sklearn workflow',\n",
       " '1. getting the data ready',\n",
       " '2. choose the right algo for the problem',\n",
       " '3. fit the model/algo and use it to make predictions',\n",
       " '4. evaluating a model',\n",
       " '5. improde a model',\n",
       " '6. save and load a trained model',\n",
       " '7. putting it all together']"
      ]
     },
     "execution_count": 19,
     "metadata": {},
     "output_type": "execute_result"
    }
   ],
   "source": [
    "learning"
   ]
  },
  {
   "cell_type": "markdown",
   "id": "a5ef99a9-2971-4c52-865c-f21ae99c6ee7",
   "metadata": {},
   "source": [
    "## 1. getting our data ready to be used for machine learning\n",
    "three main things we have to do:\n",
    "1. split the data into features and labels usually x and y\n",
    "2. filling (also called imputing) or disgreading missing values\n",
    "3.converting non numerical values to numerical values(also called feature encoding)"
   ]
  },
  {
   "cell_type": "code",
   "execution_count": 20,
   "id": "6f0426c3-161f-4b2f-a705-9973781a9a0d",
   "metadata": {},
   "outputs": [
    {
     "data": {
      "text/html": [
       "<div>\n",
       "<style scoped>\n",
       "    .dataframe tbody tr th:only-of-type {\n",
       "        vertical-align: middle;\n",
       "    }\n",
       "\n",
       "    .dataframe tbody tr th {\n",
       "        vertical-align: top;\n",
       "    }\n",
       "\n",
       "    .dataframe thead th {\n",
       "        text-align: right;\n",
       "    }\n",
       "</style>\n",
       "<table border=\"1\" class=\"dataframe\">\n",
       "  <thead>\n",
       "    <tr style=\"text-align: right;\">\n",
       "      <th></th>\n",
       "      <th>age</th>\n",
       "      <th>sex</th>\n",
       "      <th>cp</th>\n",
       "      <th>trestbps</th>\n",
       "      <th>chol</th>\n",
       "      <th>fbs</th>\n",
       "      <th>restecg</th>\n",
       "      <th>thalach</th>\n",
       "      <th>exang</th>\n",
       "      <th>oldpeak</th>\n",
       "      <th>slope</th>\n",
       "      <th>ca</th>\n",
       "      <th>thal</th>\n",
       "      <th>target</th>\n",
       "    </tr>\n",
       "  </thead>\n",
       "  <tbody>\n",
       "    <tr>\n",
       "      <th>0</th>\n",
       "      <td>63</td>\n",
       "      <td>1</td>\n",
       "      <td>3</td>\n",
       "      <td>145</td>\n",
       "      <td>233</td>\n",
       "      <td>1</td>\n",
       "      <td>0</td>\n",
       "      <td>150</td>\n",
       "      <td>0</td>\n",
       "      <td>2.3</td>\n",
       "      <td>0</td>\n",
       "      <td>0</td>\n",
       "      <td>1</td>\n",
       "      <td>1</td>\n",
       "    </tr>\n",
       "    <tr>\n",
       "      <th>1</th>\n",
       "      <td>37</td>\n",
       "      <td>1</td>\n",
       "      <td>2</td>\n",
       "      <td>130</td>\n",
       "      <td>250</td>\n",
       "      <td>0</td>\n",
       "      <td>1</td>\n",
       "      <td>187</td>\n",
       "      <td>0</td>\n",
       "      <td>3.5</td>\n",
       "      <td>0</td>\n",
       "      <td>0</td>\n",
       "      <td>2</td>\n",
       "      <td>1</td>\n",
       "    </tr>\n",
       "    <tr>\n",
       "      <th>2</th>\n",
       "      <td>41</td>\n",
       "      <td>0</td>\n",
       "      <td>1</td>\n",
       "      <td>130</td>\n",
       "      <td>204</td>\n",
       "      <td>0</td>\n",
       "      <td>0</td>\n",
       "      <td>172</td>\n",
       "      <td>0</td>\n",
       "      <td>1.4</td>\n",
       "      <td>2</td>\n",
       "      <td>0</td>\n",
       "      <td>2</td>\n",
       "      <td>1</td>\n",
       "    </tr>\n",
       "    <tr>\n",
       "      <th>3</th>\n",
       "      <td>56</td>\n",
       "      <td>1</td>\n",
       "      <td>1</td>\n",
       "      <td>120</td>\n",
       "      <td>236</td>\n",
       "      <td>0</td>\n",
       "      <td>1</td>\n",
       "      <td>178</td>\n",
       "      <td>0</td>\n",
       "      <td>0.8</td>\n",
       "      <td>2</td>\n",
       "      <td>0</td>\n",
       "      <td>2</td>\n",
       "      <td>1</td>\n",
       "    </tr>\n",
       "    <tr>\n",
       "      <th>4</th>\n",
       "      <td>57</td>\n",
       "      <td>0</td>\n",
       "      <td>0</td>\n",
       "      <td>120</td>\n",
       "      <td>354</td>\n",
       "      <td>0</td>\n",
       "      <td>1</td>\n",
       "      <td>163</td>\n",
       "      <td>1</td>\n",
       "      <td>0.6</td>\n",
       "      <td>2</td>\n",
       "      <td>0</td>\n",
       "      <td>2</td>\n",
       "      <td>1</td>\n",
       "    </tr>\n",
       "  </tbody>\n",
       "</table>\n",
       "</div>"
      ],
      "text/plain": [
       "   age  sex  cp  trestbps  chol  fbs  restecg  thalach  exang  oldpeak  slope  \\\n",
       "0   63    1   3       145   233    1        0      150      0      2.3      0   \n",
       "1   37    1   2       130   250    0        1      187      0      3.5      0   \n",
       "2   41    0   1       130   204    0        0      172      0      1.4      2   \n",
       "3   56    1   1       120   236    0        1      178      0      0.8      2   \n",
       "4   57    0   0       120   354    0        1      163      1      0.6      2   \n",
       "\n",
       "   ca  thal  target  \n",
       "0   0     1       1  \n",
       "1   0     2       1  \n",
       "2   0     2       1  \n",
       "3   0     2       1  \n",
       "4   0     2       1  "
      ]
     },
     "execution_count": 20,
     "metadata": {},
     "output_type": "execute_result"
    }
   ],
   "source": [
    "heart_disease.head()"
   ]
  },
  {
   "cell_type": "code",
   "execution_count": 21,
   "id": "488fcdd4-cdfb-43bc-bb36-f805ee958bfe",
   "metadata": {},
   "outputs": [
    {
     "data": {
      "text/html": [
       "<div>\n",
       "<style scoped>\n",
       "    .dataframe tbody tr th:only-of-type {\n",
       "        vertical-align: middle;\n",
       "    }\n",
       "\n",
       "    .dataframe tbody tr th {\n",
       "        vertical-align: top;\n",
       "    }\n",
       "\n",
       "    .dataframe thead th {\n",
       "        text-align: right;\n",
       "    }\n",
       "</style>\n",
       "<table border=\"1\" class=\"dataframe\">\n",
       "  <thead>\n",
       "    <tr style=\"text-align: right;\">\n",
       "      <th></th>\n",
       "      <th>age</th>\n",
       "      <th>sex</th>\n",
       "      <th>cp</th>\n",
       "      <th>trestbps</th>\n",
       "      <th>chol</th>\n",
       "      <th>fbs</th>\n",
       "      <th>restecg</th>\n",
       "      <th>thalach</th>\n",
       "      <th>exang</th>\n",
       "      <th>oldpeak</th>\n",
       "      <th>slope</th>\n",
       "      <th>ca</th>\n",
       "      <th>thal</th>\n",
       "    </tr>\n",
       "  </thead>\n",
       "  <tbody>\n",
       "    <tr>\n",
       "      <th>0</th>\n",
       "      <td>63</td>\n",
       "      <td>1</td>\n",
       "      <td>3</td>\n",
       "      <td>145</td>\n",
       "      <td>233</td>\n",
       "      <td>1</td>\n",
       "      <td>0</td>\n",
       "      <td>150</td>\n",
       "      <td>0</td>\n",
       "      <td>2.3</td>\n",
       "      <td>0</td>\n",
       "      <td>0</td>\n",
       "      <td>1</td>\n",
       "    </tr>\n",
       "    <tr>\n",
       "      <th>1</th>\n",
       "      <td>37</td>\n",
       "      <td>1</td>\n",
       "      <td>2</td>\n",
       "      <td>130</td>\n",
       "      <td>250</td>\n",
       "      <td>0</td>\n",
       "      <td>1</td>\n",
       "      <td>187</td>\n",
       "      <td>0</td>\n",
       "      <td>3.5</td>\n",
       "      <td>0</td>\n",
       "      <td>0</td>\n",
       "      <td>2</td>\n",
       "    </tr>\n",
       "    <tr>\n",
       "      <th>2</th>\n",
       "      <td>41</td>\n",
       "      <td>0</td>\n",
       "      <td>1</td>\n",
       "      <td>130</td>\n",
       "      <td>204</td>\n",
       "      <td>0</td>\n",
       "      <td>0</td>\n",
       "      <td>172</td>\n",
       "      <td>0</td>\n",
       "      <td>1.4</td>\n",
       "      <td>2</td>\n",
       "      <td>0</td>\n",
       "      <td>2</td>\n",
       "    </tr>\n",
       "    <tr>\n",
       "      <th>3</th>\n",
       "      <td>56</td>\n",
       "      <td>1</td>\n",
       "      <td>1</td>\n",
       "      <td>120</td>\n",
       "      <td>236</td>\n",
       "      <td>0</td>\n",
       "      <td>1</td>\n",
       "      <td>178</td>\n",
       "      <td>0</td>\n",
       "      <td>0.8</td>\n",
       "      <td>2</td>\n",
       "      <td>0</td>\n",
       "      <td>2</td>\n",
       "    </tr>\n",
       "    <tr>\n",
       "      <th>4</th>\n",
       "      <td>57</td>\n",
       "      <td>0</td>\n",
       "      <td>0</td>\n",
       "      <td>120</td>\n",
       "      <td>354</td>\n",
       "      <td>0</td>\n",
       "      <td>1</td>\n",
       "      <td>163</td>\n",
       "      <td>1</td>\n",
       "      <td>0.6</td>\n",
       "      <td>2</td>\n",
       "      <td>0</td>\n",
       "      <td>2</td>\n",
       "    </tr>\n",
       "  </tbody>\n",
       "</table>\n",
       "</div>"
      ],
      "text/plain": [
       "   age  sex  cp  trestbps  chol  fbs  restecg  thalach  exang  oldpeak  slope  \\\n",
       "0   63    1   3       145   233    1        0      150      0      2.3      0   \n",
       "1   37    1   2       130   250    0        1      187      0      3.5      0   \n",
       "2   41    0   1       130   204    0        0      172      0      1.4      2   \n",
       "3   56    1   1       120   236    0        1      178      0      0.8      2   \n",
       "4   57    0   0       120   354    0        1      163      1      0.6      2   \n",
       "\n",
       "   ca  thal  \n",
       "0   0     1  \n",
       "1   0     2  \n",
       "2   0     2  \n",
       "3   0     2  \n",
       "4   0     2  "
      ]
     },
     "execution_count": 21,
     "metadata": {},
     "output_type": "execute_result"
    }
   ],
   "source": [
    "x= heart_disease.drop(\"target\",axis=1)\n",
    "x.head()"
   ]
  },
  {
   "cell_type": "code",
   "execution_count": 22,
   "id": "708ca145-931f-4b1d-ad9a-6f8c9f07467d",
   "metadata": {},
   "outputs": [
    {
     "data": {
      "text/plain": [
       "0    1\n",
       "1    1\n",
       "2    1\n",
       "3    1\n",
       "4    1\n",
       "Name: target, dtype: int64"
      ]
     },
     "execution_count": 22,
     "metadata": {},
     "output_type": "execute_result"
    }
   ],
   "source": [
    "y=heart_disease[\"target\"]\n",
    "y.head()"
   ]
  },
  {
   "cell_type": "code",
   "execution_count": 23,
   "id": "79d0aa93-6223-4c04-a8d3-5dd6b4cca3b4",
   "metadata": {},
   "outputs": [],
   "source": [
    "from sklearn.model_selection import train_test_split\n",
    "x_train,x_test,y_train,y_test = train_test_split(x,y, test_size=0.2)"
   ]
  },
  {
   "cell_type": "code",
   "execution_count": 24,
   "id": "5382724e-2c6b-4083-8cc6-c325bd840a82",
   "metadata": {},
   "outputs": [
    {
     "data": {
      "text/plain": [
       "((242, 13), (61, 13), (242,), (61,))"
      ]
     },
     "execution_count": 24,
     "metadata": {},
     "output_type": "execute_result"
    }
   ],
   "source": [
    "x_train.shape, x_test.shape, y_train.shape, y_test.shape"
   ]
  },
  {
   "cell_type": "markdown",
   "id": "62f423ac-ea65-48f5-850e-9bd767915b0c",
   "metadata": {},
   "source": [
    "## 1.1 make sure its all numerical"
   ]
  },
  {
   "cell_type": "code",
   "execution_count": 25,
   "id": "4c6d1ea8-36d3-4844-b46e-0c8f90082394",
   "metadata": {},
   "outputs": [
    {
     "ename": "FileNotFoundError",
     "evalue": "[Errno 2] No such file or directory: 'car-sales-extended.csv'",
     "output_type": "error",
     "traceback": [
      "\u001b[1;31m---------------------------------------------------------------------------\u001b[0m",
      "\u001b[1;31mFileNotFoundError\u001b[0m                         Traceback (most recent call last)",
      "Cell \u001b[1;32mIn[25], line 1\u001b[0m\n\u001b[1;32m----> 1\u001b[0m car_sales \u001b[38;5;241m=\u001b[39m pd\u001b[38;5;241m.\u001b[39mread_csv(\u001b[38;5;124m\"\u001b[39m\u001b[38;5;124mcar-sales-extended.csv\u001b[39m\u001b[38;5;124m\"\u001b[39m)\n\u001b[0;32m      2\u001b[0m car_sales\u001b[38;5;241m.\u001b[39mhead()\n",
      "File \u001b[1;32m~\\datascience_course\\sample_project1\\heart-disease\\env\\Lib\\site-packages\\pandas\\io\\parsers\\readers.py:1026\u001b[0m, in \u001b[0;36mread_csv\u001b[1;34m(filepath_or_buffer, sep, delimiter, header, names, index_col, usecols, dtype, engine, converters, true_values, false_values, skipinitialspace, skiprows, skipfooter, nrows, na_values, keep_default_na, na_filter, verbose, skip_blank_lines, parse_dates, infer_datetime_format, keep_date_col, date_parser, date_format, dayfirst, cache_dates, iterator, chunksize, compression, thousands, decimal, lineterminator, quotechar, quoting, doublequote, escapechar, comment, encoding, encoding_errors, dialect, on_bad_lines, delim_whitespace, low_memory, memory_map, float_precision, storage_options, dtype_backend)\u001b[0m\n\u001b[0;32m   1013\u001b[0m kwds_defaults \u001b[38;5;241m=\u001b[39m _refine_defaults_read(\n\u001b[0;32m   1014\u001b[0m     dialect,\n\u001b[0;32m   1015\u001b[0m     delimiter,\n\u001b[1;32m   (...)\u001b[0m\n\u001b[0;32m   1022\u001b[0m     dtype_backend\u001b[38;5;241m=\u001b[39mdtype_backend,\n\u001b[0;32m   1023\u001b[0m )\n\u001b[0;32m   1024\u001b[0m kwds\u001b[38;5;241m.\u001b[39mupdate(kwds_defaults)\n\u001b[1;32m-> 1026\u001b[0m \u001b[38;5;28;01mreturn\u001b[39;00m _read(filepath_or_buffer, kwds)\n",
      "File \u001b[1;32m~\\datascience_course\\sample_project1\\heart-disease\\env\\Lib\\site-packages\\pandas\\io\\parsers\\readers.py:620\u001b[0m, in \u001b[0;36m_read\u001b[1;34m(filepath_or_buffer, kwds)\u001b[0m\n\u001b[0;32m    617\u001b[0m _validate_names(kwds\u001b[38;5;241m.\u001b[39mget(\u001b[38;5;124m\"\u001b[39m\u001b[38;5;124mnames\u001b[39m\u001b[38;5;124m\"\u001b[39m, \u001b[38;5;28;01mNone\u001b[39;00m))\n\u001b[0;32m    619\u001b[0m \u001b[38;5;66;03m# Create the parser.\u001b[39;00m\n\u001b[1;32m--> 620\u001b[0m parser \u001b[38;5;241m=\u001b[39m TextFileReader(filepath_or_buffer, \u001b[38;5;241m*\u001b[39m\u001b[38;5;241m*\u001b[39mkwds)\n\u001b[0;32m    622\u001b[0m \u001b[38;5;28;01mif\u001b[39;00m chunksize \u001b[38;5;129;01mor\u001b[39;00m iterator:\n\u001b[0;32m    623\u001b[0m     \u001b[38;5;28;01mreturn\u001b[39;00m parser\n",
      "File \u001b[1;32m~\\datascience_course\\sample_project1\\heart-disease\\env\\Lib\\site-packages\\pandas\\io\\parsers\\readers.py:1620\u001b[0m, in \u001b[0;36mTextFileReader.__init__\u001b[1;34m(self, f, engine, **kwds)\u001b[0m\n\u001b[0;32m   1617\u001b[0m     \u001b[38;5;28mself\u001b[39m\u001b[38;5;241m.\u001b[39moptions[\u001b[38;5;124m\"\u001b[39m\u001b[38;5;124mhas_index_names\u001b[39m\u001b[38;5;124m\"\u001b[39m] \u001b[38;5;241m=\u001b[39m kwds[\u001b[38;5;124m\"\u001b[39m\u001b[38;5;124mhas_index_names\u001b[39m\u001b[38;5;124m\"\u001b[39m]\n\u001b[0;32m   1619\u001b[0m \u001b[38;5;28mself\u001b[39m\u001b[38;5;241m.\u001b[39mhandles: IOHandles \u001b[38;5;241m|\u001b[39m \u001b[38;5;28;01mNone\u001b[39;00m \u001b[38;5;241m=\u001b[39m \u001b[38;5;28;01mNone\u001b[39;00m\n\u001b[1;32m-> 1620\u001b[0m \u001b[38;5;28mself\u001b[39m\u001b[38;5;241m.\u001b[39m_engine \u001b[38;5;241m=\u001b[39m \u001b[38;5;28mself\u001b[39m\u001b[38;5;241m.\u001b[39m_make_engine(f, \u001b[38;5;28mself\u001b[39m\u001b[38;5;241m.\u001b[39mengine)\n",
      "File \u001b[1;32m~\\datascience_course\\sample_project1\\heart-disease\\env\\Lib\\site-packages\\pandas\\io\\parsers\\readers.py:1880\u001b[0m, in \u001b[0;36mTextFileReader._make_engine\u001b[1;34m(self, f, engine)\u001b[0m\n\u001b[0;32m   1878\u001b[0m     \u001b[38;5;28;01mif\u001b[39;00m \u001b[38;5;124m\"\u001b[39m\u001b[38;5;124mb\u001b[39m\u001b[38;5;124m\"\u001b[39m \u001b[38;5;129;01mnot\u001b[39;00m \u001b[38;5;129;01min\u001b[39;00m mode:\n\u001b[0;32m   1879\u001b[0m         mode \u001b[38;5;241m+\u001b[39m\u001b[38;5;241m=\u001b[39m \u001b[38;5;124m\"\u001b[39m\u001b[38;5;124mb\u001b[39m\u001b[38;5;124m\"\u001b[39m\n\u001b[1;32m-> 1880\u001b[0m \u001b[38;5;28mself\u001b[39m\u001b[38;5;241m.\u001b[39mhandles \u001b[38;5;241m=\u001b[39m get_handle(\n\u001b[0;32m   1881\u001b[0m     f,\n\u001b[0;32m   1882\u001b[0m     mode,\n\u001b[0;32m   1883\u001b[0m     encoding\u001b[38;5;241m=\u001b[39m\u001b[38;5;28mself\u001b[39m\u001b[38;5;241m.\u001b[39moptions\u001b[38;5;241m.\u001b[39mget(\u001b[38;5;124m\"\u001b[39m\u001b[38;5;124mencoding\u001b[39m\u001b[38;5;124m\"\u001b[39m, \u001b[38;5;28;01mNone\u001b[39;00m),\n\u001b[0;32m   1884\u001b[0m     compression\u001b[38;5;241m=\u001b[39m\u001b[38;5;28mself\u001b[39m\u001b[38;5;241m.\u001b[39moptions\u001b[38;5;241m.\u001b[39mget(\u001b[38;5;124m\"\u001b[39m\u001b[38;5;124mcompression\u001b[39m\u001b[38;5;124m\"\u001b[39m, \u001b[38;5;28;01mNone\u001b[39;00m),\n\u001b[0;32m   1885\u001b[0m     memory_map\u001b[38;5;241m=\u001b[39m\u001b[38;5;28mself\u001b[39m\u001b[38;5;241m.\u001b[39moptions\u001b[38;5;241m.\u001b[39mget(\u001b[38;5;124m\"\u001b[39m\u001b[38;5;124mmemory_map\u001b[39m\u001b[38;5;124m\"\u001b[39m, \u001b[38;5;28;01mFalse\u001b[39;00m),\n\u001b[0;32m   1886\u001b[0m     is_text\u001b[38;5;241m=\u001b[39mis_text,\n\u001b[0;32m   1887\u001b[0m     errors\u001b[38;5;241m=\u001b[39m\u001b[38;5;28mself\u001b[39m\u001b[38;5;241m.\u001b[39moptions\u001b[38;5;241m.\u001b[39mget(\u001b[38;5;124m\"\u001b[39m\u001b[38;5;124mencoding_errors\u001b[39m\u001b[38;5;124m\"\u001b[39m, \u001b[38;5;124m\"\u001b[39m\u001b[38;5;124mstrict\u001b[39m\u001b[38;5;124m\"\u001b[39m),\n\u001b[0;32m   1888\u001b[0m     storage_options\u001b[38;5;241m=\u001b[39m\u001b[38;5;28mself\u001b[39m\u001b[38;5;241m.\u001b[39moptions\u001b[38;5;241m.\u001b[39mget(\u001b[38;5;124m\"\u001b[39m\u001b[38;5;124mstorage_options\u001b[39m\u001b[38;5;124m\"\u001b[39m, \u001b[38;5;28;01mNone\u001b[39;00m),\n\u001b[0;32m   1889\u001b[0m )\n\u001b[0;32m   1890\u001b[0m \u001b[38;5;28;01massert\u001b[39;00m \u001b[38;5;28mself\u001b[39m\u001b[38;5;241m.\u001b[39mhandles \u001b[38;5;129;01mis\u001b[39;00m \u001b[38;5;129;01mnot\u001b[39;00m \u001b[38;5;28;01mNone\u001b[39;00m\n\u001b[0;32m   1891\u001b[0m f \u001b[38;5;241m=\u001b[39m \u001b[38;5;28mself\u001b[39m\u001b[38;5;241m.\u001b[39mhandles\u001b[38;5;241m.\u001b[39mhandle\n",
      "File \u001b[1;32m~\\datascience_course\\sample_project1\\heart-disease\\env\\Lib\\site-packages\\pandas\\io\\common.py:873\u001b[0m, in \u001b[0;36mget_handle\u001b[1;34m(path_or_buf, mode, encoding, compression, memory_map, is_text, errors, storage_options)\u001b[0m\n\u001b[0;32m    868\u001b[0m \u001b[38;5;28;01melif\u001b[39;00m \u001b[38;5;28misinstance\u001b[39m(handle, \u001b[38;5;28mstr\u001b[39m):\n\u001b[0;32m    869\u001b[0m     \u001b[38;5;66;03m# Check whether the filename is to be opened in binary mode.\u001b[39;00m\n\u001b[0;32m    870\u001b[0m     \u001b[38;5;66;03m# Binary mode does not support 'encoding' and 'newline'.\u001b[39;00m\n\u001b[0;32m    871\u001b[0m     \u001b[38;5;28;01mif\u001b[39;00m ioargs\u001b[38;5;241m.\u001b[39mencoding \u001b[38;5;129;01mand\u001b[39;00m \u001b[38;5;124m\"\u001b[39m\u001b[38;5;124mb\u001b[39m\u001b[38;5;124m\"\u001b[39m \u001b[38;5;129;01mnot\u001b[39;00m \u001b[38;5;129;01min\u001b[39;00m ioargs\u001b[38;5;241m.\u001b[39mmode:\n\u001b[0;32m    872\u001b[0m         \u001b[38;5;66;03m# Encoding\u001b[39;00m\n\u001b[1;32m--> 873\u001b[0m         handle \u001b[38;5;241m=\u001b[39m \u001b[38;5;28mopen\u001b[39m(\n\u001b[0;32m    874\u001b[0m             handle,\n\u001b[0;32m    875\u001b[0m             ioargs\u001b[38;5;241m.\u001b[39mmode,\n\u001b[0;32m    876\u001b[0m             encoding\u001b[38;5;241m=\u001b[39mioargs\u001b[38;5;241m.\u001b[39mencoding,\n\u001b[0;32m    877\u001b[0m             errors\u001b[38;5;241m=\u001b[39merrors,\n\u001b[0;32m    878\u001b[0m             newline\u001b[38;5;241m=\u001b[39m\u001b[38;5;124m\"\u001b[39m\u001b[38;5;124m\"\u001b[39m,\n\u001b[0;32m    879\u001b[0m         )\n\u001b[0;32m    880\u001b[0m     \u001b[38;5;28;01melse\u001b[39;00m:\n\u001b[0;32m    881\u001b[0m         \u001b[38;5;66;03m# Binary mode\u001b[39;00m\n\u001b[0;32m    882\u001b[0m         handle \u001b[38;5;241m=\u001b[39m \u001b[38;5;28mopen\u001b[39m(handle, ioargs\u001b[38;5;241m.\u001b[39mmode)\n",
      "\u001b[1;31mFileNotFoundError\u001b[0m: [Errno 2] No such file or directory: 'car-sales-extended.csv'"
     ]
    }
   ],
   "source": [
    "car_sales = pd.read_csv(\"car-sales-extended.csv\")\n",
    "car_sales.head()"
   ]
  },
  {
   "cell_type": "code",
   "execution_count": null,
   "id": "a68cdd5b-9aa7-4ba8-b00a-dd7d4e4d06c9",
   "metadata": {},
   "outputs": [],
   "source": [
    "len(car_sales)"
   ]
  },
  {
   "cell_type": "code",
   "execution_count": null,
   "id": "c03c985d-1d91-4acd-bd1b-730cc19f62d4",
   "metadata": {},
   "outputs": [],
   "source": [
    "car_sales.dtypes"
   ]
  },
  {
   "cell_type": "code",
   "execution_count": null,
   "id": "ded7484b-7ddf-4e16-8484-000c8cc184c8",
   "metadata": {},
   "outputs": [],
   "source": [
    "#split x and y\n",
    "x= car_sales.drop(\"Price\", axis=1)\n",
    "y=car_sales[\"Price\"]\n",
    "\n",
    "#split to train and test\n",
    "x_train,x_test,y_train,y_test=train_test_split(x,y,test_size=0.2)"
   ]
  },
  {
   "cell_type": "code",
   "execution_count": null,
   "id": "d01f35ba-d8f9-4324-a11b-5555835eacac",
   "metadata": {},
   "outputs": [],
   "source": [
    "# build ml model\n",
    "from sklearn.ensemble import RandomForestRegressor\n",
    "\n",
    "model = RandomForestRegressor()\n",
    "model.fit(x_train,y_train)\n",
    "model.score(x_test,y_test)"
   ]
  },
  {
   "cell_type": "code",
   "execution_count": null,
   "id": "04f5756f-8911-496e-a90b-2ec391017ff3",
   "metadata": {},
   "outputs": [],
   "source": [
    "# turn the categories to int/float\n",
    "from sklearn.preprocessing import OneHotEncoder\n",
    "from sklearn.compose import ColumnTransformer\n",
    "\n",
    "categorical_features =[\"Make\",\"Colour\",\"Doors\"]\n",
    "one_hot =OneHotEncoder()\n",
    "transformer = ColumnTransformer([(\"one_hot\",\n",
    "                                 one_hot,\n",
    "                                 categorical_features)],\n",
    "                               remainder=\"passthrough\")\n",
    "\n",
    "transformed_x = transformer.fit_transform(x)\n",
    "transformed_x"
   ]
  },
  {
   "cell_type": "code",
   "execution_count": null,
   "id": "658ae2dd-177d-43b9-a7d1-b2ecb23bf604",
   "metadata": {},
   "outputs": [],
   "source": [
    "pd.DataFrame(transformed_x).head()"
   ]
  },
  {
   "cell_type": "code",
   "execution_count": null,
   "id": "45c4ffb2-f385-49be-a543-09123be15646",
   "metadata": {},
   "outputs": [],
   "source": [
    "x.head()"
   ]
  },
  {
   "cell_type": "code",
   "execution_count": null,
   "id": "80f4b795-47c8-4f6c-ae46-c486c056fcce",
   "metadata": {},
   "outputs": [],
   "source": [
    "dummies = pd.get_dummies(car_sales[[\"Make\",\"Colour\",\"Doors\"]])\n",
    "dummies"
   ]
  },
  {
   "cell_type": "code",
   "execution_count": null,
   "id": "8314f980-cf65-44e9-8182-1391d697bd72",
   "metadata": {},
   "outputs": [],
   "source": [
    "# lets refit the model\n",
    "np.random.seed(42)\n",
    "x_train,x_test,y_train,y_test= train_test_split(transformed_x, y, test_size=0.2)\n",
    "\n",
    "model.fit(x_train,y_train)"
   ]
  },
  {
   "cell_type": "code",
   "execution_count": null,
   "id": "fcd16c4e-4188-4f27-a1f8-75a608994285",
   "metadata": {},
   "outputs": [],
   "source": [
    "model.score(x_test,y_test)"
   ]
  },
  {
   "cell_type": "markdown",
   "id": "0566f2c0-7b8d-4076-86f9-52519a0b753c",
   "metadata": {},
   "source": [
    "## 1.2 what if there were missing values?\n",
    "\n",
    "1. fill em with some value(also known as imputation)\n",
    "2. remove the samples with missing data altogether"
   ]
  },
  {
   "cell_type": "code",
   "execution_count": null,
   "id": "a29d2c5f-ff99-46e3-a890-d21c93304937",
   "metadata": {},
   "outputs": [],
   "source": [
    "car_sales_missing = pd.read_csv(\"car-sales-extended-missing-data.csv\")\n",
    "car_sales_missing.head()"
   ]
  },
  {
   "cell_type": "code",
   "execution_count": null,
   "id": "d9946922-1808-4edb-9709-034c9ae82c33",
   "metadata": {},
   "outputs": [],
   "source": [
    "car_sales_missing.isna().sum()"
   ]
  },
  {
   "cell_type": "code",
   "execution_count": null,
   "id": "5693491f-422e-40df-b6bc-8c09421c5564",
   "metadata": {},
   "outputs": [],
   "source": [
    "# create x and y\n",
    "x=car_sales_missing.drop(\"Price\",axis=1)\n",
    "y=car_sales_missing[\"Price\"]"
   ]
  },
  {
   "cell_type": "code",
   "execution_count": null,
   "id": "4c2b6758-8156-4cfb-babc-ac2c05ce9eb0",
   "metadata": {},
   "outputs": [],
   "source": [
    "#lets try and convert our data to numbers\n",
    "\n",
    "# turn the categories to int/float\n",
    "from sklearn.preprocessing import OneHotEncoder\n",
    "from sklearn.compose import ColumnTransformer\n",
    "\n",
    "categorical_features =[\"Make\",\"Colour\",\"Doors\"]\n",
    "one_hot =OneHotEncoder()\n",
    "transformer = ColumnTransformer([(\"one_hot\",\n",
    "                                 one_hot,\n",
    "                                 categorical_features)],\n",
    "                               remainder=\"passthrough\")\n",
    "\n",
    "transformed_x = transformer.fit_transform(x)\n",
    "transformed_x"
   ]
  },
  {
   "cell_type": "code",
   "execution_count": null,
   "id": "85004392-678a-49ad-84ac-ed66de7b93fb",
   "metadata": {},
   "outputs": [],
   "source": [
    "car_sales_missing"
   ]
  },
  {
   "cell_type": "markdown",
   "id": "77f6b14f-4901-4eda-b8ec-8e502dc9f73b",
   "metadata": {},
   "source": [
    "#### option 1 : fill missing data with pandas"
   ]
  },
  {
   "cell_type": "code",
   "execution_count": null,
   "id": "9e82d9ed-8f7c-4eee-8572-de9ca354cfae",
   "metadata": {},
   "outputs": [],
   "source": [
    "import warnings\n",
    "warnings.filterwarnings(\"ignore\")"
   ]
  },
  {
   "cell_type": "code",
   "execution_count": null,
   "id": "efab15fd-2fa8-4f87-a71f-dd9de76c7bd5",
   "metadata": {},
   "outputs": [],
   "source": [
    "# fill the \"make\",\"colour\",\"odometer\",\"doors\" column\n",
    "\n",
    "car_sales_missing[\"Make\"].fillna(\"missing\",inplace=True)\n",
    "car_sales_missing[\"Colour\"].fillna(\"missing\",inplace=True)\n",
    "car_sales_missing[\"Odometer (KM)\"].fillna(car_sales_missing[\"Odometer (KM)\"].mean(),inplace=True)\n",
    "car_sales_missing[\"Doors\"].fillna(4,inplace=True)"
   ]
  },
  {
   "cell_type": "code",
   "execution_count": null,
   "id": "cff7c605-1491-452c-98c1-b0394a68e66b",
   "metadata": {},
   "outputs": [],
   "source": [
    "car_sales_missing.isna().sum()"
   ]
  },
  {
   "cell_type": "code",
   "execution_count": null,
   "id": "c491c645-e51c-4b7d-a849-9aa317ff9793",
   "metadata": {},
   "outputs": [],
   "source": [
    "# remove rows with missing price value\n",
    "car_sales_missing.dropna(inplace=True)"
   ]
  },
  {
   "cell_type": "code",
   "execution_count": null,
   "id": "590c8f38-a130-4b71-b036-b6d5dcb38e82",
   "metadata": {},
   "outputs": [],
   "source": [
    "car_sales_missing.isna().sum()"
   ]
  },
  {
   "cell_type": "code",
   "execution_count": null,
   "id": "bf6ec33b-ff9b-43bf-aff9-6fd8612d3581",
   "metadata": {},
   "outputs": [],
   "source": [
    "# create x and y\n",
    "x=car_sales_missing.drop(\"Price\",axis=1)\n",
    "y=car_sales_missing[\"Price\"]\n",
    "\n",
    "#lets try and convert our data to numbers\n",
    "\n",
    "# turn the categories to int/float\n",
    "from sklearn.preprocessing import OneHotEncoder\n",
    "from sklearn.compose import ColumnTransformer\n",
    "\n",
    "categorical_features =[\"Make\",\"Colour\",\"Doors\"]\n",
    "one_hot =OneHotEncoder()\n",
    "transformer = ColumnTransformer([(\"one_hot\",\n",
    "                                 one_hot,\n",
    "                                 categorical_features)],\n",
    "                               remainder=\"passthrough\")\n",
    "\n",
    "transformed_x = transformer.fit_transform(car_sales_missing)\n",
    "transformed_x"
   ]
  },
  {
   "cell_type": "markdown",
   "id": "ca43a4e1-1d11-42f2-a4d4-f1d5a3e6dbb8",
   "metadata": {},
   "source": [
    "### option 2: fill the missing values using sklearn"
   ]
  },
  {
   "cell_type": "code",
   "execution_count": null,
   "id": "43f99d12-fa59-4a4c-8bf3-7c547f28607b",
   "metadata": {},
   "outputs": [],
   "source": [
    "car_sales_missing = pd.read_csv(\"car-sales-extended-missing-data.csv\")\n",
    "car_sales_missing.head()"
   ]
  },
  {
   "cell_type": "code",
   "execution_count": null,
   "id": "3d64188d-108f-4ba7-a974-8b26e8ab7add",
   "metadata": {},
   "outputs": [],
   "source": [
    "car_sales_missing.isna().sum()"
   ]
  },
  {
   "cell_type": "code",
   "execution_count": null,
   "id": "69b0239f-7bd0-413f-9c24-a565100b97ae",
   "metadata": {},
   "outputs": [],
   "source": [
    "car_sales_missing.dropna(subset=[\"Price\"], inplace=True)\n",
    "car_sales_missing.isna().sum()"
   ]
  },
  {
   "cell_type": "code",
   "execution_count": null,
   "id": "bfbee126-f876-4cb3-9b9d-d60fce45f69c",
   "metadata": {},
   "outputs": [],
   "source": [
    "from sklearn.model_selection import train_test_split\n",
    "\n",
    "x=car_sales_missing.drop([\"Price\"],axis=1)\n",
    "y= car_sales_missing[\"Price\"]\n",
    "\n",
    "np.rando.seed(42)\n",
    "x_train,x_test,y_train,y_test=train_test_split(x,y,test_size=0.2)"
   ]
  },
  {
   "cell_type": "code",
   "execution_count": null,
   "id": "5a60f3e9-d122-430b-bd86-b38c6cd894bb",
   "metadata": {},
   "outputs": [],
   "source": [
    "# fill the missing values with sklearn\n",
    "from sklearn.impute import SimpleImputer\n",
    "from sklearn.compose import ColumnTransformer\n",
    "\n",
    "# fill the categorical values with missing and numerical with mean\n",
    "cat_imputer = SimpleImputer(strategy=\"constant\",fill_value=\"missing\")\n",
    "door_imputer = SimpleImputer(strategy=\"constant\", fill_value=4)\n",
    "num_imputer= SimpleImputer(strategy=\"mean\")\n",
    "\n",
    "#define columns\n",
    "cat_features =[\"Make\",\"Colour\"]\n",
    "door_features=[\"Doors\"]\n",
    "num_features =[\"Odometer (KM)\"]\n",
    "\n",
    "#create an imputer\n",
    "imputer = ColumnTransformer([\n",
    "    (\"cat_imputer\",cat_imputer,cat_features),\n",
    "    (\"door_imputer\",door_imputer,door_features),\n",
    "    (\"num_imputer\",num_imputer,num_features)\n",
    "])\n",
    "\n",
    "#transform to filled-> train and test values separately\n",
    "filled_x_train = imputer.fit_transform(x_train)\n",
    "filled_x_test =imputer.fit_transform(x_test)\n",
    "\n",
    "filled_x_train"
   ]
  },
  {
   "cell_type": "code",
   "execution_count": null,
   "id": "91862f5d-d416-42c7-9799-1092688c7112",
   "metadata": {},
   "outputs": [],
   "source": [
    "car_sales_filled_train = pd.DataFrame(filled_x_train,columns=[\"Make\",\"Colour\",\"Doors\",\"Odometer (KM)\"])\n",
    "car_sales_filled_test = pd.DataFrame(filled_x_test,columns=[\"Make\",\"Colour\",\"Doors\",\"Odometer (KM)\"])"
   ]
  },
  {
   "cell_type": "code",
   "execution_count": null,
   "id": "24152dc0-9ca8-448e-bfbf-a381c00d8b14",
   "metadata": {},
   "outputs": [],
   "source": [
    "car_sales_filled_train.isna().sum()"
   ]
  },
  {
   "cell_type": "code",
   "execution_count": null,
   "id": "baecd761-8aab-48bd-a9af-367f0052b3c0",
   "metadata": {},
   "outputs": [],
   "source": [
    "# turn the categories to int/float\n",
    "from sklearn.preprocessing import OneHotEncoder\n",
    "from sklearn.compose import ColumnTransformer\n",
    "\n",
    "categorical_features =[\"Make\",\"Colour\",\"Doors\"]\n",
    "one_hot =OneHotEncoder()\n",
    "transformer = ColumnTransformer([(\"one_hot\",\n",
    "                                 one_hot,\n",
    "                                 categorical_features)],\n",
    "                               remainder=\"passthrough\")\n",
    "\n",
    "transformed_x_train = transformer.fit_transform(car_sales_filled_train)\n",
    "transformed_x_test = transformer.fit_transform(car_sales_filled_test)\n",
    "transformed_x_train"
   ]
  },
  {
   "cell_type": "code",
   "execution_count": null,
   "id": "34dc4e2b-9c58-4962-8e72-0759e8b33809",
   "metadata": {},
   "outputs": [],
   "source": [
    "# now we have got our data as numbers and filled\n",
    "#lets fit a model now\n",
    "\n",
    "np.random.seed(42)\n",
    "from sklearn.ensemble import RandomForestRegressor\n",
    "\n",
    "# Setup model\n",
    "model = RandomForestRegressor(n_estimators=1000)\n",
    "\n",
    "# Make sure to use transformed (filled and one-hot encoded X data)\n",
    "model.fit(transformed_x_train, y_train)\n",
    "model.score(transformed_x_test, y_test)"
   ]
  },
  {
   "cell_type": "code",
   "execution_count": null,
   "id": "4ce29193-3f26-4a78-8598-4f7140ab2cad",
   "metadata": {},
   "outputs": [],
   "source": [
    "learning"
   ]
  },
  {
   "cell_type": "markdown",
   "id": "d07cd5c4-0789-4f0b-9ac1-f7e58ae3ac17",
   "metadata": {},
   "source": [
    "## 2. choosing the right algo for our problem\n",
    "\n",
    "things to note:\n",
    "* sklearn refers to ML models, algorithms as estimators\n",
    "* classification problem - predicting a category (heat disease or not)\n",
    "    * sometimes youll seee clf used as classification estimator\n",
    "* regression problem - predicting a number (selling price of a car)"
   ]
  },
  {
   "cell_type": "markdown",
   "id": "e8060e3a-ed73-4fe3-aec2-6f120ef03cbf",
   "metadata": {},
   "source": [
    "### 2.1 picking a ML model for a regression problem\n",
    "\n",
    "lets use the california housing dataset"
   ]
  },
  {
   "cell_type": "code",
   "execution_count": null,
   "id": "86c8ffb0-f5a9-4269-8e88-85c2180e5fd7",
   "metadata": {},
   "outputs": [],
   "source": [
    "# get california housing dataset\n",
    "from sklearn.datasets import fetch_california_housing\n",
    "housing = fetch_california_housing()\n",
    "housing"
   ]
  },
  {
   "cell_type": "code",
   "execution_count": null,
   "id": "c03157f4-7f52-44b9-81c1-18b204b031c9",
   "metadata": {},
   "outputs": [],
   "source": [
    "housing_df=pd.DataFrame(housing[\"data\"],columns=housing[\"feature_names\"])\n",
    "housing_df"
   ]
  },
  {
   "cell_type": "code",
   "execution_count": null,
   "id": "1d314d73-ffca-4851-9f0c-0b48f3894c38",
   "metadata": {},
   "outputs": [],
   "source": [
    "housing_df[\"target\"] =housing[\"target\"]\n",
    "housing_df.head()"
   ]
  },
  {
   "cell_type": "code",
   "execution_count": null,
   "id": "0447de07-9a39-42b9-a78a-7205be0cdb21",
   "metadata": {},
   "outputs": [],
   "source": [
    "housing_df= housing_df.drop(\"MedHouseVal\", axis=1)\n",
    "housing_df"
   ]
  },
  {
   "cell_type": "code",
   "execution_count": null,
   "id": "d8e74f99-0a03-4716-bcea-22a9d1844b9b",
   "metadata": {},
   "outputs": [],
   "source": [
    "from sklearn.model_selection import train_test_split\n",
    "\n",
    "np.random.seed(42)\n",
    "\n",
    "x=housing_df.drop(\"target\",axis=1)\n",
    "y=housing_df[\"target\"]\n",
    "\n",
    "x_train,x_test,y_train,y_test=train_test_split(x,y,test_size=0.2)\n",
    "\n",
    "from sklearn.linear_model import Ridge\n",
    "\n",
    "model =Ridge()\n",
    "model.fit(x_train,y_train)\n",
    "model.score(x_test,y_test)"
   ]
  },
  {
   "cell_type": "code",
   "execution_count": null,
   "id": "ee6bc6b4-aa14-4ad7-8935-007577f86b8a",
   "metadata": {},
   "outputs": [],
   "source": [
    "from sklearn.model_selection import train_test_split\n",
    "\n",
    "np.random.seed(42)\n",
    "\n",
    "x=housing_df.drop(\"target\",axis=1)\n",
    "y=housing_df[\"target\"]\n",
    "\n",
    "x_train,x_test,y_train,y_test=train_test_split(x,y,test_size=0.2)\n",
    "\n",
    "from sklearn.linear_model import Lasso\n",
    "\n",
    "model =Lasso()\n",
    "model.fit(x_train,y_train)\n",
    "model.score(x_test,y_test)"
   ]
  },
  {
   "cell_type": "code",
   "execution_count": null,
   "id": "e05646fa-6c0e-4466-aaed-0c069553cc79",
   "metadata": {},
   "outputs": [],
   "source": [
    "from sklearn.model_selection import train_test_split\n",
    "\n",
    "np.random.seed(42)\n",
    "\n",
    "x=housing_df.drop(\"target\",axis=1)\n",
    "y=housing_df[\"target\"]\n",
    "\n",
    "x_train,x_test,y_train,y_test=train_test_split(x,y,test_size=0.2)\n",
    "\n",
    "from sklearn.ensemble import RandomForestRegressor\n",
    "\n",
    "model =RandomForestRegressor()\n",
    "model.fit(x_train,y_train)\n",
    "model.score(x_test,y_test)"
   ]
  },
  {
   "cell_type": "markdown",
   "id": "4339ea8e-a60f-41c6-889f-f31137d80dc9",
   "metadata": {},
   "source": [
    "## 2.2 picking ML model for Classification problems"
   ]
  },
  {
   "cell_type": "code",
   "execution_count": null,
   "id": "aac3ffbc-f30d-413a-960d-3519afe84b45",
   "metadata": {},
   "outputs": [],
   "source": [
    "heart_disease =pd.read_csv(\"heart-disease.csv\")\n",
    "heart_disease.head()"
   ]
  },
  {
   "cell_type": "code",
   "execution_count": null,
   "id": "b6d4b9f6-048f-4ce1-b15d-3d2db4e2ddac",
   "metadata": {},
   "outputs": [],
   "source": [
    "from sklearn.model_selection import train_test_split\n",
    "\n",
    "np.random.seed(42)\n",
    "\n",
    "x=heart_disease.drop(\"target\",axis=1)\n",
    "y=heart_disease[\"target\"]\n",
    "\n",
    "x_train,x_test,y_train,y_test=train_test_split(x,y,test_size=0.2)\n",
    "\n",
    "from sklearn.svm import LinearSVC\n",
    "\n",
    "clf =LinearSVC(max_iter=1000)\n",
    "clf.fit(x_train,y_train)\n",
    "clf.score(x_test,y_test)"
   ]
  },
  {
   "cell_type": "code",
   "execution_count": null,
   "id": "f0e6dbcc-a46e-4e66-b4dc-f215f412fe2e",
   "metadata": {},
   "outputs": [],
   "source": [
    "from sklearn.model_selection import train_test_split\n",
    "\n",
    "np.random.seed(42)\n",
    "\n",
    "x=heart_disease.drop(\"target\",axis=1)\n",
    "y=heart_disease[\"target\"]\n",
    "\n",
    "x_train,x_test,y_train,y_test=train_test_split(x,y,test_size=0.2)\n",
    "\n",
    "from sklearn.ensemble import RandomForestClassifier\n",
    "\n",
    "clf =RandomForestClassifier(n_estimators=100)\n",
    "clf.fit(x_train,y_train)\n",
    "clf.score(x_test,y_test)"
   ]
  },
  {
   "cell_type": "markdown",
   "id": "9ab3da78-c889-4e4c-beb0-af30e7e90c31",
   "metadata": {},
   "source": [
    "##3.1 fit the ml model to our data and use it for predictions\n",
    "\n",
    "### fitting the model"
   ]
  },
  {
   "cell_type": "code",
   "execution_count": null,
   "id": "9aebe4ac-f61c-439e-8cd4-cf5ab1ee5a44",
   "metadata": {},
   "outputs": [],
   "source": [
    "from sklearn.model_selection import train_test_split\n",
    "\n",
    "np.random.seed(42)\n",
    "\n",
    "x=heart_disease.drop(\"target\",axis=1)\n",
    "y=heart_disease[\"target\"]\n",
    "\n",
    "x_train,x_test,y_train,y_test=train_test_split(x,y,test_size=0.2)\n",
    "\n",
    "from sklearn.ensemble import RandomForestClassifier\n",
    "\n",
    "clf =RandomForestClassifier(n_estimators=100)\n",
    "clf.fit(x_train,y_train)\n",
    "clf.score(x_test,y_test)"
   ]
  },
  {
   "cell_type": "code",
   "execution_count": null,
   "id": "f3dd18b3-4b11-4ca5-8ed4-7e6ad9104906",
   "metadata": {},
   "outputs": [],
   "source": [
    "x.head()"
   ]
  },
  {
   "cell_type": "code",
   "execution_count": null,
   "id": "453eddb6-25fd-48a7-b5d0-6445bdc6092c",
   "metadata": {},
   "outputs": [],
   "source": [
    "y.head()"
   ]
  },
  {
   "cell_type": "markdown",
   "id": "22775f72-07e1-4780-a909-b1e3d71265d0",
   "metadata": {},
   "source": [
    "### make predictions"
   ]
  },
  {
   "cell_type": "code",
   "execution_count": null,
   "id": "a56faff4-6db1-4c2a-b7ef-75b33b1348b0",
   "metadata": {},
   "outputs": [],
   "source": [
    "# use a trained model to make predictions\n",
    "\n",
    "clf.predict(x_test)"
   ]
  },
  {
   "cell_type": "code",
   "execution_count": null,
   "id": "6d227172-7601-4256-b04f-ee39d1f7e81f",
   "metadata": {},
   "outputs": [],
   "source": [
    "np.array(y_test)"
   ]
  },
  {
   "cell_type": "code",
   "execution_count": null,
   "id": "d291e192-197f-4d4f-b3a5-9362ba518b6c",
   "metadata": {},
   "outputs": [],
   "source": [
    "y_preds = clf.predict(x_test)\n",
    "np.mean(y_preds==y_test)"
   ]
  },
  {
   "cell_type": "code",
   "execution_count": null,
   "id": "439fae45-cbae-42a2-91fd-e6b55437e0e1",
   "metadata": {},
   "outputs": [],
   "source": [
    "from sklearn.metrics import accuracy_score\n",
    "accuracy_score(y_test,y_preds)"
   ]
  },
  {
   "cell_type": "markdown",
   "id": "04d0da91-bbd9-4bc5-97bb-2af11b260971",
   "metadata": {},
   "source": [
    "## 4. evaluating a model\n",
    "\n",
    "three ways to evaluate model: \n",
    "1.\" score() \" method\n",
    "2. the scoring parameter\n",
    "3. problem specific metric functions"
   ]
  },
  {
   "cell_type": "markdown",
   "id": "941a296f-7348-4123-a2af-9f179a3fce8b",
   "metadata": {},
   "source": [
    "## 4.1  score() method"
   ]
  },
  {
   "cell_type": "code",
   "execution_count": null,
   "id": "1adb4ec5-3172-4b63-b86d-ec375ad91129",
   "metadata": {},
   "outputs": [],
   "source": [
    "from sklearn.model_selection import train_test_split\n",
    "\n",
    "np.random.seed(42)\n",
    "\n",
    "x=heart_disease.drop(\"target\",axis=1)\n",
    "y=heart_disease[\"target\"]\n",
    "\n",
    "x_train,x_test,y_train,y_test=train_test_split(x,y,test_size=0.2)\n",
    "\n",
    "from sklearn.ensemble import RandomForestClassifier\n",
    "\n",
    "clf =RandomForestClassifier(n_estimators=1000)\n",
    "clf.fit(x_train,y_train)\n",
    "clf.score(x_test,y_test)"
   ]
  },
  {
   "cell_type": "code",
   "execution_count": null,
   "id": "9b1968a6-ff50-43e7-86ed-34f00f8317e9",
   "metadata": {},
   "outputs": [],
   "source": [
    "clf.score(x_train,y_train)"
   ]
  },
  {
   "cell_type": "code",
   "execution_count": null,
   "id": "cc9ae786-1f40-4256-9381-4d47e2e60bba",
   "metadata": {},
   "outputs": [],
   "source": [
    "from sklearn.model_selection import train_test_split\n",
    "\n",
    "np.random.seed(42)\n",
    "\n",
    "x=housing_df.drop(\"target\",axis=1)\n",
    "y=housing_df[\"target\"]\n",
    "\n",
    "x_train,x_test,y_train,y_test=train_test_split(x,y,test_size=0.2)\n",
    "\n",
    "from sklearn.ensemble import RandomForestRegressor\n",
    "\n",
    "model =RandomForestRegressor()\n",
    "model.fit(x_train,y_train)\n",
    "# r_squared\n",
    "model.score(x_test,y_test)"
   ]
  },
  {
   "cell_type": "markdown",
   "id": "6de808a7-6c6e-440a-bbdd-8c094f8529fd",
   "metadata": {},
   "source": [
    "### 4.2 scoring parameter"
   ]
  },
  {
   "cell_type": "code",
   "execution_count": null,
   "id": "ad3bc5d4-e181-4412-92d7-54c7bcf90396",
   "metadata": {},
   "outputs": [],
   "source": [
    "from sklearn.model_selection import cross_val_score\n",
    "\n",
    "from sklearn.model_selection import train_test_split\n",
    "\n",
    "np.random.seed(42)\n",
    "\n",
    "x=heart_disease.drop(\"target\",axis=1)\n",
    "y=heart_disease[\"target\"]\n",
    "\n",
    "x_train,x_test,y_train,y_test=train_test_split(x,y,test_size=0.2)\n",
    "\n",
    "from sklearn.ensemble import RandomForestClassifier\n",
    "\n",
    "clf =RandomForestClassifier(n_estimators=100)\n",
    "clf.fit(x_train,y_train)\n",
    "clf.score(x_test,y_test)"
   ]
  },
  {
   "cell_type": "code",
   "execution_count": null,
   "id": "6cff65dd-330c-46a4-ab9c-c48caa3e6fcd",
   "metadata": {},
   "outputs": [],
   "source": [
    "cross_val_score(clf,x,y,cv=10)"
   ]
  },
  {
   "cell_type": "code",
   "execution_count": null,
   "id": "91266605-cdff-4ef4-ac9d-c9f9e9bc310d",
   "metadata": {},
   "outputs": [],
   "source": [
    "np.random.seed(42)\n",
    "\n",
    "clf_single_score=clf.score(x_test,y_test)\n",
    "clf_cross_val_score = np.mean(cross_val_score(clf,x,y,cv=5))\n",
    "\n",
    "clf_single_score, clf_cross_val_score"
   ]
  },
  {
   "cell_type": "markdown",
   "id": "06d338f0-8868-42a1-b5eb-4ec54a4a2ef0",
   "metadata": {},
   "source": [
    "### 4.2.1 classification model evaluation metrics\n",
    "\n",
    "1.accuracy\n",
    "2.area under ROC curve\n",
    "3.confusion matrix\n",
    "4. classification report"
   ]
  },
  {
   "cell_type": "code",
   "execution_count": null,
   "id": "57aad5c0-0c6e-4ae5-8b6c-77d8bf99a73d",
   "metadata": {},
   "outputs": [],
   "source": [
    "## accuracy:\n",
    "\n",
    "from sklearn.model_selection import train_test_split\n",
    "\n",
    "np.random.seed(42)\n",
    "\n",
    "x=heart_disease.drop(\"target\",axis=1)\n",
    "y=heart_disease[\"target\"]\n",
    "\n",
    "x_train,x_test,y_train,y_test=train_test_split(x,y,test_size=0.2)\n",
    "\n",
    "from sklearn.ensemble import RandomForestClassifier\n",
    "\n",
    "clf =RandomForestClassifier(n_estimators=1000)\n",
    "clf.fit(x_train,y_train)\n",
    "#cross_val_score= cross_val_score(clf,x,y)"
   ]
  },
  {
   "cell_type": "code",
   "execution_count": null,
   "id": "0f7e8fba-e654-45b7-895a-74a2ab1698fc",
   "metadata": {},
   "outputs": [],
   "source": [
    "from sklearn.model_selection import cross_val_score\n",
    "\n",
    "cross_val_score(clf,x_test,y_test)"
   ]
  },
  {
   "cell_type": "markdown",
   "id": "ec400656-8828-4f6d-9659-31430632583d",
   "metadata": {},
   "source": [
    "### area under receiver characterstic curve(AUC/ROC) \n",
    "\n",
    "roc curve are a comparision of a model's true positive rate(tpr) versus a models false positive nature(fpr)\n",
    "\n",
    "*true positive= model predicts 1 when truth is 1\n",
    "*false positive = model predicts 1 when truth is 0\n",
    "*true negative= model predicts 0 when truth is 0\n",
    "*false negative = model predicts 0 when truth is 1"
   ]
  },
  {
   "cell_type": "code",
   "execution_count": null,
   "id": "308470f8-6a6a-4128-ac95-b6e115893b8b",
   "metadata": {},
   "outputs": [],
   "source": [
    "x_train,x_test,y_train,y_test=train_test_split(x,y,test_size=0.2)"
   ]
  },
  {
   "cell_type": "code",
   "execution_count": null,
   "id": "812af0b4-65fd-4840-ba09-0a5a70a9a1cb",
   "metadata": {},
   "outputs": [],
   "source": [
    "from sklearn.metrics import roc_curve\n",
    "clf.fit(x_train,y_train)\n",
    "y_probs = clf.predict_proba(x_test)\n",
    "y_probs[:10]"
   ]
  },
  {
   "cell_type": "code",
   "execution_count": null,
   "id": "ed03b0d3-3a82-40c3-88cb-461eca712c5c",
   "metadata": {},
   "outputs": [],
   "source": [
    "len(y_probs)"
   ]
  },
  {
   "cell_type": "code",
   "execution_count": null,
   "id": "39a1e790-4cbd-4474-a63d-c5b0e418ee4a",
   "metadata": {},
   "outputs": [],
   "source": [
    "y_probs_positive =y_probs[:,1]\n",
    "y_probs_positive[:10]"
   ]
  },
  {
   "cell_type": "code",
   "execution_count": null,
   "id": "f53d0db4-c53e-41d6-9ea7-09bbac418243",
   "metadata": {},
   "outputs": [],
   "source": [
    "# calculate fpr, tpr, thresholds\n",
    "\n",
    "fpr,tpr,thresholds = roc_curve(y_test,y_probs_positive)\n",
    "\n",
    "fpr, tpr, thresholds"
   ]
  },
  {
   "cell_type": "code",
   "execution_count": null,
   "id": "5023cdf9-7477-4980-8569-4724e65b7a14",
   "metadata": {},
   "outputs": [],
   "source": [
    "import matplotlib.pyplot as plt\n",
    "\n",
    "def plot_roc_curve(fpr,tpr):\n",
    "    \"\"\"\n",
    "    plots a ROC  curve given the fpr and tpr of a model\n",
    "    \"\"\"\n",
    "    plt.plot(fpr,tpr,color=\"orange\", label=\"ROC\")\n",
    "    plt.plot([0,1],[0,1],color=\"darkblue\",linestyle=\"--\",label=\"guessing\")\n",
    "\n",
    "    plt.xlabel(\"false positive rate\")\n",
    "    plt.ylabel(\"true positive rate\")\n",
    "    plt.title(\"roc curve\")\n",
    "    plt.legend()\n",
    "    plt.show()\n",
    "\n",
    "plot_roc_curve(fpr,tpr)"
   ]
  },
  {
   "cell_type": "code",
   "execution_count": null,
   "id": "fd05f7d6-b32b-4fea-99df-47eae37cc374",
   "metadata": {},
   "outputs": [],
   "source": [
    "from sklearn.metrics import roc_auc_score\n",
    "\n",
    "roc_auc_score(y_test,y_probs_positive)"
   ]
  },
  {
   "cell_type": "code",
   "execution_count": null,
   "id": "26cbb14e-fd8f-4ddc-895a-9c3ce23b6f91",
   "metadata": {},
   "outputs": [],
   "source": [
    "# plot perfect roc curve and auc score\n",
    "fpr,tpr,thresholds=roc_curve(y_test,y_test)\n",
    "plot_roc_curve(fpr,tpr)"
   ]
  },
  {
   "cell_type": "code",
   "execution_count": null,
   "id": "126c7e61-bb9e-4a35-b109-42b5fdbe6576",
   "metadata": {},
   "outputs": [],
   "source": [
    "roc_auc_score(y_test,y_test)"
   ]
  },
  {
   "cell_type": "markdown",
   "id": "de2ab919-5d3a-417e-8a62-c679d81c0e5e",
   "metadata": {},
   "source": [
    "### confusion matrix\n",
    "a confusion matrix is a quick way to compare the labels a model predicts and the actual labels it was supposed to predict. in essence, givingu an idea of where the model is getting confused."
   ]
  },
  {
   "cell_type": "code",
   "execution_count": null,
   "id": "06082326-b344-4e7a-907b-59ce4380e5bd",
   "metadata": {},
   "outputs": [],
   "source": [
    "from sklearn.metrics import confusion_matrix\n",
    "\n",
    "y_preds= clf.predict(x_test)\n",
    "confusion_matrix(y_test,y_preds)"
   ]
  },
  {
   "cell_type": "code",
   "execution_count": null,
   "id": "fd936ff9-29ba-482a-8866-fc577f49d6b0",
   "metadata": {},
   "outputs": [],
   "source": [
    "pd.crosstab(y_test,y_preds,\n",
    "           rownames=[\"actual labels\"],\n",
    "           colnames=[\"predicted labels\"])"
   ]
  },
  {
   "cell_type": "code",
   "execution_count": null,
   "id": "3e322130-a110-4bb2-b8df-766dcfada103",
   "metadata": {},
   "outputs": [],
   "source": [
    "## make our confusion matrix more visual with seaborn heatmap()\n",
    "\n",
    "import seaborn as sns\n",
    "\n",
    "#set the font scale\n",
    "sns.set(font_scale=1.5)\n",
    "#create a confusion matrix\n",
    "conf_mat = confusion_matrix(y_test,y_preds)\n",
    "#plot it using seaborn\n",
    "sns.heatmap(conf_mat);"
   ]
  },
  {
   "cell_type": "markdown",
   "id": "763d1a2e-ac6b-4864-9c20-6b032835ce80",
   "metadata": {},
   "source": [
    "## creating a confusion matrix using scikit learn\n",
    "to use the new methods of creationg a confusion matrix with sklearn we will need sklearn version 1.0+"
   ]
  },
  {
   "cell_type": "code",
   "execution_count": null,
   "id": "dbf2b57b-c0bb-4552-bc10-a63b043573a6",
   "metadata": {},
   "outputs": [],
   "source": [
    "import sklearn\n",
    "sklearn.__version__"
   ]
  },
  {
   "cell_type": "code",
   "execution_count": null,
   "id": "9fd2abb1-fb14-44b6-b63a-df8b90004a4b",
   "metadata": {},
   "outputs": [],
   "source": [
    "from sklearn.metrics import ConfusionMatrixDisplay\n",
    "ConfusionMatrixDisplay.from_estimator(estimator=clf,X=x,y=y)"
   ]
  },
  {
   "cell_type": "code",
   "execution_count": null,
   "id": "0ca17f38-3898-4956-b43b-d83f76b9f6fc",
   "metadata": {},
   "outputs": [],
   "source": [
    "ConfusionMatrixDisplay.from_predictions(y_true=y_test,y_pred=y_preds)"
   ]
  },
  {
   "cell_type": "markdown",
   "id": "e2f448c6-9485-4c70-ab72-da5e0ab41b3d",
   "metadata": {},
   "source": [
    "### classification report"
   ]
  },
  {
   "cell_type": "code",
   "execution_count": null,
   "id": "6a7337b3-ba2a-4899-ad99-154a8e5aadbe",
   "metadata": {},
   "outputs": [],
   "source": [
    "from sklearn.metrics import classification_report\n",
    "print(classification_report(y_test,y_preds))"
   ]
  },
  {
   "cell_type": "code",
   "execution_count": null,
   "id": "9a8c5c14-44e9-41a0-8e60-d2c9dab39c38",
   "metadata": {},
   "outputs": [],
   "source": [
    "disease_true = np.zeros(10000)\n",
    "disease_true[0]=1\n",
    "disease_preds=np.zeros(10000)\n",
    "pd.DataFrame(classification_report(disease_true,disease_preds,output_dict=True))"
   ]
  },
  {
   "cell_type": "markdown",
   "id": "8c28800b-0747-4845-9bef-a13010c8fa1c",
   "metadata": {},
   "source": [
    "## 4.2.2 regression model evaluation\n",
    "\n",
    "r squared, mean absolute error, mean squared error"
   ]
  },
  {
   "cell_type": "code",
   "execution_count": null,
   "id": "8af6120f-e43f-49c1-b3c8-203799d81e82",
   "metadata": {},
   "outputs": [],
   "source": [
    "from sklearn.model_selection import train_test_split\n",
    "\n",
    "np.random.seed(42)\n",
    "\n",
    "x=housing_df.drop(\"target\",axis=1)\n",
    "y=housing_df[\"target\"]\n",
    "\n",
    "x_train,x_test,y_train,y_test=train_test_split(x,y,test_size=0.2)\n",
    "\n",
    "from sklearn.ensemble import RandomForestRegressor\n",
    "\n",
    "model =RandomForestRegressor()\n",
    "model.fit(x_train,y_train)\n",
    "\n",
    "model.score(x_test,y_test)"
   ]
  },
  {
   "cell_type": "code",
   "execution_count": null,
   "id": "d085882f-7f20-4b06-af3e-133a740c5a1d",
   "metadata": {},
   "outputs": [],
   "source": [
    "from sklearn.metrics import r2_score\n",
    "y_test_mean =np.full(len(y_test),y_test.mean())"
   ]
  },
  {
   "cell_type": "code",
   "execution_count": null,
   "id": "43fa9254-c543-4807-bea6-49468a3be1c2",
   "metadata": {},
   "outputs": [],
   "source": [
    "y_test_mean[:10]"
   ]
  },
  {
   "cell_type": "code",
   "execution_count": null,
   "id": "eb1e8fd6-5d76-4886-9972-580de006122b",
   "metadata": {},
   "outputs": [],
   "source": [
    "r2_score(y_true=y_test,y_pred=y_test_mean)"
   ]
  },
  {
   "cell_type": "markdown",
   "id": "cc62d0f1-ab8f-4982-a428-45f6e96aa944",
   "metadata": {},
   "source": [
    "### mean absolute error"
   ]
  },
  {
   "cell_type": "code",
   "execution_count": null,
   "id": "a85662ee-8873-4a9c-aeb5-90e88b570e82",
   "metadata": {},
   "outputs": [],
   "source": [
    "from sklearn.metrics import mean_absolute_error\n",
    "\n",
    "y_preds = model.predict(x_test)\n",
    "mae=mean_absolute_error(y_test,y_preds)\n",
    "mae"
   ]
  },
  {
   "cell_type": "code",
   "execution_count": null,
   "id": "3911552a-22e7-4e24-a07e-51f789bc1519",
   "metadata": {},
   "outputs": [],
   "source": [
    "df= pd.DataFrame(data={\"actual values\":y_test,\"predicted values\":y_preds})\n",
    "df[\"differences\"]=df[\"predicted values\"]-df[\"actual values\"]\n",
    "df"
   ]
  },
  {
   "cell_type": "code",
   "execution_count": null,
   "id": "c8e5771a-2653-4ae2-87bd-554dd525ee1a",
   "metadata": {},
   "outputs": [],
   "source": [
    "df[\"differences\"].mean()"
   ]
  },
  {
   "cell_type": "code",
   "execution_count": null,
   "id": "e3a11dc9-a026-4331-84fe-b50cd83c5aaa",
   "metadata": {},
   "outputs": [],
   "source": [
    "np.abs(df[\"differences\"]).mean()"
   ]
  },
  {
   "cell_type": "markdown",
   "id": "c761d5c8-eb5f-45f3-a1d4-7ff159fceaf9",
   "metadata": {},
   "source": [
    "### mean squared error"
   ]
  },
  {
   "cell_type": "code",
   "execution_count": null,
   "id": "894de317-54ef-4511-9d40-329548e444c4",
   "metadata": {},
   "outputs": [],
   "source": [
    "from sklearn.metrics import mean_squared_error\n",
    "y_preds=model.predict(x_test)\n",
    "mse=mean_squared_error(y_test,y_preds)\n",
    "mse"
   ]
  },
  {
   "cell_type": "code",
   "execution_count": null,
   "id": "1e2264d4-3ff4-435d-80db-8e157d9b105c",
   "metadata": {},
   "outputs": [],
   "source": [
    "df[\"squared d\"]=df[\"differences\"]*df[\"differences\"]\n",
    "df"
   ]
  },
  {
   "cell_type": "code",
   "execution_count": null,
   "id": "a3b12cd0-877a-4e42-ae7f-831c17f5d12c",
   "metadata": {},
   "outputs": [],
   "source": [
    "df[\"squared d\"].mean()"
   ]
  },
  {
   "cell_type": "code",
   "execution_count": null,
   "id": "b37c0715-5837-423a-987a-b2210d9603b2",
   "metadata": {},
   "outputs": [],
   "source": [
    "df_large_error=df.copy()\n",
    "df_large_error.iloc[0][\"squared d\"]=16\n",
    "df_large_error"
   ]
  },
  {
   "cell_type": "markdown",
   "id": "1e31e935-96c7-44ed-88e1-c2774eb07f06",
   "metadata": {},
   "source": [
    "### 4.2.3 scoring parameter"
   ]
  },
  {
   "cell_type": "code",
   "execution_count": null,
   "id": "5c35cb14-eda1-426a-8445-5d4f5f5a91d9",
   "metadata": {},
   "outputs": [],
   "source": [
    "from sklearn.model_selection import cross_val_score\n",
    "from sklearn.ensemble import RandomForestClassifier\n",
    "\n",
    "np.random.seed(42)\n",
    "\n",
    "x=heart_disease.drop(\"target\",axis=1)\n",
    "y=heart_disease[\"target\"]\n",
    "\n",
    "clf=RandomForestClassifier(n_estimators=100)"
   ]
  },
  {
   "cell_type": "code",
   "execution_count": null,
   "id": "e67d4056-874b-4f5a-b7e6-4d6479f921b8",
   "metadata": {},
   "outputs": [],
   "source": [
    "np.random.seed(42)\n",
    "\n",
    "cv_acc=cross_val_score(clf,x,y,cv=5,scoring=None)\n",
    "cv_acc"
   ]
  },
  {
   "cell_type": "code",
   "execution_count": null,
   "id": "e0b6c93c-6d3f-4929-8d36-47ac0413191a",
   "metadata": {},
   "outputs": [],
   "source": [
    "np.mean(cv_acc)*100"
   ]
  },
  {
   "cell_type": "code",
   "execution_count": null,
   "id": "b6c908d1-961b-4a45-9338-4a74a1ddd492",
   "metadata": {},
   "outputs": [],
   "source": [
    "np.random.seed(42)\n",
    "cv_acc=cross_val_score(clf,x,y,cv=5,scoring=\"accuracy\")\n",
    "cv_acc"
   ]
  },
  {
   "cell_type": "code",
   "execution_count": null,
   "id": "edcf08dd-210d-45de-a05e-f9a87a5d9efd",
   "metadata": {},
   "outputs": [],
   "source": [
    "np.mean(cv_acc)*100"
   ]
  },
  {
   "cell_type": "code",
   "execution_count": null,
   "id": "4ed6f75e-b6b3-49a6-b604-599f4264b6cf",
   "metadata": {},
   "outputs": [],
   "source": [
    "np.random.seed(42)\n",
    "cv_acc=cross_val_score(clf,x,y,cv=5,scoring=\"precision\")\n",
    "cv_acc"
   ]
  },
  {
   "cell_type": "code",
   "execution_count": null,
   "id": "40d308e9-8358-421d-8930-ef8e46017c7e",
   "metadata": {},
   "outputs": [],
   "source": [
    "np.mean(cv_acc)*100"
   ]
  },
  {
   "cell_type": "code",
   "execution_count": null,
   "id": "7a14c440-acbf-429d-ad26-a3606068e911",
   "metadata": {},
   "outputs": [],
   "source": [
    "np.random.seed(42)\n",
    "cv_acc=cross_val_score(clf,x,y,cv=5,scoring=\"recall\")\n",
    "cv_acc"
   ]
  },
  {
   "cell_type": "code",
   "execution_count": null,
   "id": "945179b8-46d7-4c5d-ad26-59050bbda1f1",
   "metadata": {},
   "outputs": [],
   "source": [
    "np.mean(cv_acc)*100"
   ]
  },
  {
   "cell_type": "markdown",
   "id": "dd63bd72-4b37-4c6c-8b19-a49f3f0ae5cd",
   "metadata": {},
   "source": [
    "## 4.3 using different evaluation metrics as sklearn functions\n",
    "3rd way to evaluate skleanr ML models is to use sklearn.metrics"
   ]
  },
  {
   "cell_type": "code",
   "execution_count": null,
   "id": "812634b6-695a-4921-a54f-26084afe93a5",
   "metadata": {},
   "outputs": [],
   "source": [
    "from sklearn.metrics import accuracy_score, precision_score,recall_score,f1_score\n",
    "from sklearn.ensemble import RandomForestClassifier\n",
    "from sklearn.model_selection import train_test_split\n",
    "np.random.seed(42)\n",
    "\n",
    "x=heart_disease.drop(\"target\",axis=1)\n",
    "y=heart_disease[\"target\"]\n",
    "\n",
    "x_train,x_test,y_train,y_test =train_test_split(x,y,test_size=0.2) \n",
    "\n",
    "clf=RandomForestClassifier(n_estimators=100)\n",
    "clf.fit(x_train,y_train)\n",
    "\n",
    "accuracy_score(y_test,clf.predict(x_test)), precision_score(y_test,clf.predict(x_test)), recall_score(y_test,clf.predict(x_test)), f1_score(y_test,clf.predict(x_test))"
   ]
  },
  {
   "cell_type": "code",
   "execution_count": null,
   "id": "fa372deb-a8f5-423b-8fd0-13d858df083f",
   "metadata": {},
   "outputs": [],
   "source": [
    "from sklearn.metrics import r2_score,mean_absolute_error,mean_squared_error\n",
    "from sklearn.ensemble import RandomForestRegressor\n",
    "from sklearn.model_selection import train_test_split\n",
    "np.random.seed(42)\n",
    "\n",
    "x=housing_df.drop(\"target\",axis=1)\n",
    "y=housing_df[\"target\"]\n",
    "\n",
    "x_train,x_test,y_train,y_test=train_test_split(x,y,test_size=0.2)\n",
    "\n",
    "model =RandomForestRegressor()\n",
    "model.fit(x_train,y_train)\n",
    "\n",
    "y_preds = model.predict(x_test)\n",
    "\n",
    "r2_score(y_test,y_preds), mean_absolute_error(y_test,y_preds), mean_squared_error(y_test,y_preds)"
   ]
  },
  {
   "cell_type": "markdown",
   "id": "3f936afb-f4e8-4a3d-b8a7-ec8693e3e2db",
   "metadata": {},
   "source": [
    "## 5. improving a model\n",
    "\n",
    "first prediction: baseline predictions\n",
    "first model: baseline model\n",
    "\n",
    "from a data perespective:\n",
    "- could we collect more data?\n",
    "- could we improve our data?\n",
    "\n",
    "from a model perespective:\n",
    "- is there a better model?\n",
    "- could we improve the current model?\n",
    "\n",
    "- parameters: model find these patterns in data\n",
    "- hyperparameters: settings on a model you can adjust to (potentially)improve its ability to find patterns\n",
    "\n",
    "ways to adjust hyper parameters:\n",
    "- by hand\n",
    "- randomly with RandomSearchCV\n",
    "- exhaustively with GridSearchCV"
   ]
  },
  {
   "cell_type": "code",
   "execution_count": null,
   "id": "7770538c-0e2e-4c51-932e-60626e0ff3b3",
   "metadata": {},
   "outputs": [],
   "source": [
    "clf.get_params()"
   ]
  },
  {
   "cell_type": "markdown",
   "id": "af73c4ee-19bf-481f-9dbb-1fcd296356c0",
   "metadata": {},
   "source": [
    "### 5.1 tuning hyperparameters by hand"
   ]
  },
  {
   "cell_type": "markdown",
   "id": "b70b63ad-d0f7-470b-8035-75282e086ba3",
   "metadata": {},
   "source": [
    "we are gonna try adjusting:\n",
    "- max_depth\n",
    "- max_features\n",
    "- min_samples_leaf\n",
    "- min_samples_split\n",
    "- n_estimators"
   ]
  },
  {
   "cell_type": "code",
   "execution_count": null,
   "id": "f78592e8-5916-4ec2-b5ba-8fdc99257434",
   "metadata": {},
   "outputs": [],
   "source": [
    "def evaluate_preds(y_test,y_preds):\n",
    "    \"\"\"\n",
    "    performs evaluation on y_test vs y_pred labels in a classification\n",
    "    \"\"\"\n",
    "    accuracy=accuracy_score(y_test,y_preds)\n",
    "    precision=precision_score(y_test,y_preds)\n",
    "    recall=recall_score(y_test,y_preds)\n",
    "    f1=f1_score(y_test,y_preds)\n",
    "    metric_dict= {\"accuracy\":round(accuracy,2),\n",
    "                  \"precision\": round(precision,2),\n",
    "                  \"recall\":round(recall,2),\n",
    "                  \"f1\":round(f1,2)}\n",
    "    print(f\"acc: {accuracy * 100:.2f}%\")\n",
    "    print(f\"precision: {precision * 100:.2f}%\")\n",
    "    print(f\"recall: {recall * 100:.2f}%\")\n",
    "    print(f\"f1 score: {f1 * 100:.2f}%\")\n",
    "\n",
    "    return metric_dict"
   ]
  },
  {
   "cell_type": "code",
   "execution_count": null,
   "id": "918d1b3d-9a04-4904-b1e5-f60cfa7b8cdd",
   "metadata": {},
   "outputs": [],
   "source": [
    "from sklearn.ensemble import RandomForestClassifier\n",
    "\n",
    "np.random.seed(42)\n",
    "\n",
    "heart_disease_shuffled = heart_disease.sample(frac=1)\n",
    "\n",
    "x= heart_disease_shuffled.drop(\"target\", axis=1)\n",
    "y=heart_disease_shuffled[\"target\"]\n",
    "\n",
    "train_split = round(0.7 * len(heart_disease_shuffled))\n",
    "valid_split = round(train_split +0.15 * len(heart_disease_shuffled))\n",
    "x_train, y_train = x[:train_split], y[:train_split]\n",
    "x_valid, y_valid = x[train_split:valid_split], y[train_split:valid_split]\n",
    "x_test, y_test = x[valid_split:], y[valid_split:]\n",
    "\n",
    "#len(x_train), len(x_valid), len(x_test)\n",
    "\n",
    "clf = RandomForestClassifier(n_estimators=10)\n",
    "clf.fit(x_train,y_train)\n",
    "\n",
    "y_preds = clf.predict(x_valid)\n",
    "\n",
    "baseline_metrics = evaluate_preds(y_valid, y_preds)\n",
    "baseline_metrics"
   ]
  },
  {
   "cell_type": "code",
   "execution_count": null,
   "id": "9dfcea7a-f22e-473f-accc-3c10d8bb6c9c",
   "metadata": {},
   "outputs": [],
   "source": [
    "np.random.seed(42)\n",
    "\n",
    "clf_2= RandomForestClassifier(n_estimators=100)\n",
    "clf_2.fit(x_train,y_train)\n",
    "\n",
    "y_preds_2 = clf_2.predict(x_valid)\n",
    "\n",
    "clf_2_metrics = evaluate_preds(y_valid, y_preds_2)"
   ]
  },
  {
   "cell_type": "markdown",
   "id": "c491fd9e-9e83-4934-a285-43ff10a8ffd2",
   "metadata": {},
   "source": [
    "### 5.2 hyperparameter tuning with randomized search cv"
   ]
  },
  {
   "cell_type": "code",
   "execution_count": null,
   "id": "85d7a44a-eb8b-4163-913f-62d757abc815",
   "metadata": {},
   "outputs": [],
   "source": [
    "from sklearn.model_selection import RandomizedSearchCV\n",
    "\n",
    "grid = {\"n_estimators\":[10,100,200,500,1000,1200],\n",
    "        \"max_depth\": [None,5,10,20,30],\n",
    "        \"max_features\":[\"auto\",\"sqrt\"],\n",
    "       \"min_samples_split\":[2,4,6],\n",
    "       \"min_samples_leaf\":[1,2,4]}\n",
    "\n",
    "np.random.seed(42)\n",
    "\n",
    "x= heart_disease_shuffled.drop(\"target\", axis=1)\n",
    "y=heart_disease_shuffled[\"target\"]\n",
    "\n",
    "x_train,x_test,y_train,y_test=train_test_split(x,y,test_size=0.2)\n",
    "\n",
    "clf=RandomForestClassifier(n_jobs=1)\n",
    "\n",
    "rs_clf = RandomizedSearchCV(estimator=clf,\n",
    "                            param_distributions=grid,\n",
    "                            n_iter=10,\n",
    "                            cv=5,\n",
    "                            verbose=2)\n",
    "\n",
    "rs_clf.fit(x_train,y_train);"
   ]
  },
  {
   "cell_type": "code",
   "execution_count": null,
   "id": "747d392d-00d0-40d7-848d-a24785a20d2f",
   "metadata": {},
   "outputs": [],
   "source": [
    "rs_clf.best_params_"
   ]
  },
  {
   "cell_type": "code",
   "execution_count": null,
   "id": "2ac1a52f-a475-4433-97a2-e6af8ac88b1d",
   "metadata": {},
   "outputs": [],
   "source": [
    "rs_y_preds = rs_clf.predict(x_test)\n",
    "\n",
    "rs_metrics = evaluate_preds(y_test,rs_y_preds)"
   ]
  },
  {
   "cell_type": "markdown",
   "id": "3a014ea1-68f8-441e-bc26-dfc21dad019e",
   "metadata": {},
   "source": [
    " ### 5.3 hyperparameter tuning with gridsearchcv"
   ]
  },
  {
   "cell_type": "code",
   "execution_count": null,
   "id": "bd5bcfa9-391f-4b1f-b9d5-1369d50149ea",
   "metadata": {},
   "outputs": [],
   "source": [
    "grid"
   ]
  },
  {
   "cell_type": "code",
   "execution_count": null,
   "id": "3ed4c682-b620-4a62-8506-5f10c9205935",
   "metadata": {},
   "outputs": [],
   "source": []
  },
  {
   "cell_type": "code",
   "execution_count": null,
   "id": "931ae494-4826-4116-8429-b72dbe012809",
   "metadata": {},
   "outputs": [],
   "source": [
    "from sklearn.model_selection import GridSearchCV\n",
    "\n",
    "grid_2 = {'n_estimators': [ 100, 200, 500],\n",
    " 'max_depth': [None],\n",
    " 'max_features': ['auto', 'sqrt'],\n",
    " 'min_samples_split': [6],\n",
    " 'min_samples_leaf': [1, 2]}\n",
    "\n",
    "np.random.seed(42)\n",
    "\n",
    "x= heart_disease_shuffled.drop(\"target\", axis=1)\n",
    "y=heart_disease_shuffled[\"target\"]\n",
    "\n",
    "x_train,x_test,y_train,y_test=train_test_split(x,y,test_size=0.2)\n",
    "\n",
    "clf=RandomForestClassifier(n_jobs=1)\n",
    "\n",
    "gs_clf = GridSearchCV(estimator=clf,\n",
    "                            param_grid=grid_2,\n",
    "                            cv=5,\n",
    "                            verbose=2)\n",
    "\n",
    "gs_clf.fit(x_train,y_train);"
   ]
  },
  {
   "cell_type": "code",
   "execution_count": null,
   "id": "68cffe99-1fee-4a4a-ad71-899f311a6a0a",
   "metadata": {},
   "outputs": [],
   "source": [
    "gs_clf.best_params_"
   ]
  },
  {
   "cell_type": "code",
   "execution_count": null,
   "id": "b81177f7-e907-49ae-a35c-755cf922b14d",
   "metadata": {},
   "outputs": [],
   "source": [
    "gs_y_preds = gs_clf.predict(x_test)\n",
    "gs_metrics = evaluate_preds(y_test,gs_y_preds)"
   ]
  },
  {
   "cell_type": "markdown",
   "id": "3eb9db75-c003-48dd-801a-835828ac4ade",
   "metadata": {},
   "source": [
    "lets compare our different models metrics."
   ]
  },
  {
   "cell_type": "code",
   "execution_count": null,
   "id": "a3b5e12d-b987-463d-94ef-96b49bf9cf7b",
   "metadata": {},
   "outputs": [],
   "source": [
    "compare_metrics = pd.DataFrame({\"baseline\":baseline_metrics,\n",
    "                               \"clf_2\":clf_2_metrics,\n",
    "\"random search\":rs_metrics,\n",
    "\"grid search\":gs_metrics})\n",
    "\n",
    "compare_metrics.plot.bar(figsize=(10,8));"
   ]
  },
  {
   "cell_type": "markdown",
   "id": "f3b7302c-e379-41f0-8ea9-eac287d3313c",
   "metadata": {},
   "source": [
    "## 6. saving and loading trained ml model\n",
    "\n",
    "two ways to save and load machine learning models:\n",
    "1. with pickle module\n",
    "2. with the joblib module\n",
    "\n",
    "**pickle**\n",
    "      "
   ]
  },
  {
   "cell_type": "code",
   "execution_count": null,
   "id": "4b1d03f9-793f-4e18-b87c-b425c418be58",
   "metadata": {},
   "outputs": [],
   "source": [
    "import pickle\n",
    "\n",
    "pickle.dump(gs_clf,open(\"gs_random_forest_model_1.pkl\",\"wb\"))"
   ]
  },
  {
   "cell_type": "code",
   "execution_count": null,
   "id": "e97abd4b-fa09-4050-96fd-483bbd3e0c90",
   "metadata": {},
   "outputs": [],
   "source": [
    "loaded_pickle_model = pickle.load(open(\"gs_random_forest_model_1.pkl\",\"rb\"))"
   ]
  },
  {
   "cell_type": "code",
   "execution_count": null,
   "id": "820f7e2e-5da1-47ee-810d-9a56eba1e82c",
   "metadata": {},
   "outputs": [],
   "source": [
    "pickle_y_preds = loaded_pickle_model.predict(x_test)\n",
    "evaluate_preds(y_test,pickle_y_preds)"
   ]
  },
  {
   "cell_type": "markdown",
   "id": "6ecac700-2819-474c-ad2e-cf453bc64b82",
   "metadata": {},
   "source": [
    "**joblib**"
   ]
  },
  {
   "cell_type": "code",
   "execution_count": null,
   "id": "b2c5204a-aeee-4032-a25a-0c9d1d4baf49",
   "metadata": {},
   "outputs": [],
   "source": [
    "from joblib import dump, load\n",
    "\n",
    "dump(gs_clf,filename=\"gs_random_forest_model_1.joblib\")"
   ]
  },
  {
   "cell_type": "code",
   "execution_count": null,
   "id": "c0b15edf-9a17-4aa6-a815-b7f005c9bd11",
   "metadata": {},
   "outputs": [],
   "source": [
    "loaded_joblib_model = load(filename=\"gs_random_forest_model_1.joblib\")"
   ]
  },
  {
   "cell_type": "code",
   "execution_count": null,
   "id": "53d1befd-de1f-4369-a067-a827842668af",
   "metadata": {},
   "outputs": [],
   "source": [
    "joblib_y_preds = loaded_joblib_model.predict(x_test)\n",
    "evaluate_preds(y_test,joblib_y_preds)"
   ]
  },
  {
   "cell_type": "markdown",
   "id": "be484f92-dbc6-4ebb-9027-03fe9b8d51d6",
   "metadata": {},
   "source": [
    " ## 7. putting it all together"
   ]
  },
  {
   "cell_type": "code",
   "execution_count": null,
   "id": "4bdbf030-2492-4e1e-ae52-a4ee7cfc7f79",
   "metadata": {},
   "outputs": [],
   "source": [
    "data = pd.read_csv(\"car-sales-extended-missing-data.csv\")\n",
    "data"
   ]
  },
  {
   "cell_type": "code",
   "execution_count": null,
   "id": "19992644-568f-4b5f-8297-369cac4fbc1d",
   "metadata": {},
   "outputs": [],
   "source": [
    "data.dtypes"
   ]
  },
  {
   "cell_type": "code",
   "execution_count": null,
   "id": "314725e6-984d-47eb-a4c5-82e1b028ea2a",
   "metadata": {},
   "outputs": [],
   "source": [
    "data.isna().sum()"
   ]
  },
  {
   "cell_type": "markdown",
   "id": "f8ec63b9-0c07-48b2-8c41-293bffa858ad",
   "metadata": {},
   "source": [
    "steps we want to do ( all in one cell )\n",
    "1. fill the missing data\n",
    "2. convert data to numbers\n",
    "3. build a model on the data"
   ]
  },
  {
   "cell_type": "code",
   "execution_count": null,
   "id": "4b0aba1b-2e3c-4afa-b4f5-07b7461d6f03",
   "metadata": {},
   "outputs": [],
   "source": []
  }
 ],
 "metadata": {
  "kernelspec": {
   "display_name": "Python 3 (ipykernel)",
   "language": "python",
   "name": "python3"
  },
  "language_info": {
   "codemirror_mode": {
    "name": "ipython",
    "version": 3
   },
   "file_extension": ".py",
   "mimetype": "text/x-python",
   "name": "python",
   "nbconvert_exporter": "python",
   "pygments_lexer": "ipython3",
   "version": "3.12.3"
  }
 },
 "nbformat": 4,
 "nbformat_minor": 5
}
